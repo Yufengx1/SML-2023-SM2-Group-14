{
 "cells": [
  {
   "cell_type": "code",
   "execution_count": 1,
   "metadata": {},
   "outputs": [],
   "source": [
    "import json\n",
    "import pandas as pd\n",
    "from sklearn.linear_model import LogisticRegression\n",
    "import seaborn as sns\n",
    "import numpy as np\n",
    "from sklearn.model_selection import train_test_split\n",
    "from sklearn.feature_selection import SelectKBest, f_classif,  chi2\n",
    "from sklearn import svm\n",
    "from scipy.sparse import csr_matrix\n",
    "from imblearn.under_sampling import RandomUnderSampler\n"
   ]
  },
  {
   "cell_type": "code",
   "execution_count": 2,
   "metadata": {},
   "outputs": [],
   "source": [
    "dom1 = []\n",
    "dom2 = []\n",
    "test_set = []\n",
    "with open('../data/domain1_train.json', 'r') as file:\n",
    "    for line in file:\n",
    "        dom1.append(json.loads(line))\n",
    "        \n",
    "with open('../data/domain2_train.json', 'r') as file:\n",
    "    for line in file:\n",
    "        dom2.append(json.loads(line))\n",
    "        \n",
    "sam = pd.read_csv(\"../data/sample.csv\")\n",
    "\n",
    "with open('../data/test_set.json', 'r') as file:\n",
    "    for line in file:\n",
    "        test_set.append(json.loads(line))\n",
    "        \n",
    "dom1 = pd.DataFrame.from_dict(dom1)\n",
    "dom2 = pd.DataFrame.from_dict(dom2)\n",
    "dom2 = dom2[dom2['text'].apply(len) > 0]\n",
    "test_set = pd.DataFrame.from_dict(test_set)\n",
    "        "
   ]
  },
  {
   "cell_type": "code",
   "execution_count": 287,
   "metadata": {},
   "outputs": [
    {
     "name": "stdout",
     "output_type": "stream",
     "text": [
      "19500\n",
      "14899\n",
      "1000\n",
      "1000\n"
     ]
    }
   ],
   "source": [
    "# print(len(dom1))\n",
    "# print(len(dom2))\n",
    "# print(len(sam))\n",
    "# print(len(test_set))"
   ]
  },
  {
   "cell_type": "code",
   "execution_count": 243,
   "metadata": {},
   "outputs": [
    {
     "name": "stdout",
     "output_type": "stream",
     "text": [
      "12750\n",
      "2150\n"
     ]
    }
   ],
   "source": [
    "# dom1['label'].value_counts()\n",
    "# print(len(dom2.loc[dom2['label']==0]))\n",
    "# print(len(dom2.loc[dom2['label']==1]))"
   ]
  },
  {
   "cell_type": "code",
   "execution_count": null,
   "metadata": {},
   "outputs": [],
   "source": []
  },
  {
   "cell_type": "code",
   "execution_count": 3,
   "metadata": {},
   "outputs": [
    {
     "data": {
      "text/plain": [
       "<AxesSubplot:ylabel='count'>"
      ]
     },
     "execution_count": 3,
     "metadata": {},
     "output_type": "execute_result"
    },
    {
     "data": {
      "image/png": "[encoded data removed]",
      "text/plain": [
       "<Figure size 640x480 with 1 Axes>"
      ]
     },
     "metadata": {},
     "output_type": "display_data"
    }
   ],
   "source": [
    "dom2['label'].value_counts().plot.pie(autopct='%.2f')"
   ]
  },
  {
   "cell_type": "code",
   "execution_count": 4,
   "metadata": {},
   "outputs": [],
   "source": [
    "dom1['model'] = np.where(dom1['label'] == 1, np.NaN, 7)\n",
    "df_full = pd.concat([dom1,dom2])"
   ]
  },
  {
   "cell_type": "code",
   "execution_count": 24,
   "metadata": {},
   "outputs": [],
   "source": [
    "def to_sparse_matrix(sequences, vocab_size):\n",
    "    indptr = [0]\n",
    "    indices = []\n",
    "    data = []\n",
    "    for seq in sequences:\n",
    "        feature_counter = {}\n",
    "        for index in seq:\n",
    "            if index != 0:  # Skip 0s, other words\n",
    "                if index not in feature_counter:\n",
    "                    feature_counter[index] = 1\n",
    "                else:\n",
    "                    feature_counter[index] += 1\n",
    "        indices.extend(feature_counter.keys())\n",
    "        data.extend(feature_counter.values())\n",
    "        indptr.append(len(indices))\n",
    "    return csr_matrix((data, indices, indptr), dtype=int, shape=(len(sequences), vocab_size + 1))\n",
    "\n",
    "vocab_size = 4999\n",
    "X = to_sparse_matrix(df_full['text'], vocab_size)\n",
    "y = df_full['label']"
   ]
  },
  {
   "cell_type": "code",
   "execution_count": 30,
   "metadata": {},
   "outputs": [],
   "source": [
    "# X = pd.DataFrame([pd.Series(x) for x in X])\n",
    "y = df_full['label']\n",
    "\n",
    "selector = SelectKBest(chi2, k=2500)\n",
    "X = selector.fit_transform(X, y)\n",
    "\n",
    "X_pre = to_sparse_matrix(test_set['text'], vocab_size)\n",
    "X_pre_new = selector.transform(X_pre)"
   ]
  },
  {
   "cell_type": "code",
   "execution_count": 31,
   "metadata": {},
   "outputs": [
    {
     "data": {
      "text/plain": [
       "<34399x2500 sparse matrix of type '<class 'numpy.int64'>'\n",
       "\twith 1297178 stored elements in Compressed Sparse Row format>"
      ]
     },
     "execution_count": 31,
     "metadata": {},
     "output_type": "execute_result"
    }
   ],
   "source": [
    "X_train, X_test, y_train, y_test = train_test_split(X, y, test_size=0.2, random_state=42)X"
   ]
  },
  {
   "cell_type": "code",
   "execution_count": 18,
   "metadata": {},
   "outputs": [],
   "source": [
    "from imblearn.under_sampling import RandomUnderSampler"
   ]
  },
  {
   "cell_type": "code",
   "execution_count": 34,
   "metadata": {},
   "outputs": [],
   "source": [
    "rus = RandomUnderSampler(sampling_strategy=1)\n",
    "X_train_rus, y_train_rus = rus.fit_resample(X_train, y_train)"
   ]
  },
  {
   "cell_type": "code",
   "execution_count": 35,
   "metadata": {},
   "outputs": [
    {
     "data": {
      "image/png": "[encoded data removed]",
      "text/plain": [
       "<Figure size 640x480 with 1 Axes>"
      ]
     },
     "metadata": {},
     "output_type": "display_data"
    }
   ],
   "source": [
    "ax = y_train_rus.value_counts().plot.pie(autopct='%.2f')\n",
    "_ = ax.set_title(\"Under-sampling\")"
   ]
  },
  {
   "cell_type": "code",
   "execution_count": 78,
   "metadata": {},
   "outputs": [
    {
     "name": "stdout",
     "output_type": "stream",
     "text": [
      "  Performance_metric_names  Performance_metric_values\n",
      "0                 MCC_test                   0.364166\n"
     ]
    }
   ],
   "source": [
    "from sklearn.ensemble import RandomForestClassifier\n",
    "from sklearn.metrics import matthews_corrcoef\n",
    "model = svm.SVC(gamma='scale', C=10, class_weight = 'balanced')\n",
    "model.fit(X_train_rus, y_train_rus)\n",
    "model.fit(X_train_rus, y_train_rus)\n",
    "y_test_pred = model.predict(X_test)\n",
    "mcc_test = matthews_corrcoef(y_test, y_test_pred)\n",
    "df_labels = pd.Series(['MCC_test'], name = 'Performance_metric_names')\n",
    "df_values = pd.Series([mcc_test], name = 'Performance_metric_values')\n",
    "df2 = pd.concat([df_labels, df_values], axis=1)\n",
    "print(df2)\n"
   ]
  },
  {
   "cell_type": "code",
   "execution_count": 45,
   "metadata": {},
   "outputs": [],
   "source": [
    "test_pre = model.predict(X_pre_new)\n",
    "result = pd.DataFrame({\n",
    "    'class': test_pre,\n",
    "})\n",
    "result['id'] = result.index\n",
    "result = result[['id'] + [col for col in result.columns if col != 'id']]\n",
    "result['class'].value_counts()\n",
    "\n",
    "result.to_csv('result_imb.csv', index=False)"
   ]
  },
  {
   "cell_type": "code",
   "execution_count": 46,
   "metadata": {},
   "outputs": [
    {
     "data": {
      "text/plain": [
       "class\n",
       "0    672\n",
       "1    328\n",
       "Name: count, dtype: int64"
      ]
     },
     "execution_count": 46,
     "metadata": {},
     "output_type": "execute_result"
    }
   ],
   "source": [
    "result['class'].value_counts()"
   ]
  },
  {
   "attachments": {},
   "cell_type": "markdown",
   "metadata": {},
   "source": [
    "## Resampling"
   ]
  },
  {
   "cell_type": "code",
   "execution_count": 48,
   "metadata": {},
   "outputs": [],
   "source": [
    "#让dom2的label，model分布都平均，差不多307一组，st 307行是label 1 标为model 5，再从dom1里取307个label1和307个label0，人工的model是nan\n",
    "\n",
    "dom2_0 = dom2.loc[dom2['label']==0]\n",
    "dom2_1 = dom2.loc[dom2['label']==1]\n",
    "\n",
    "length_dom2_1 = len(dom2_1)\n",
    "mol_num = len(dom2['model'].value_counts())\n",
    "sam_dom2_0 = dom2_0.groupby('model').apply(lambda x: x.sample(n=int(length_dom2_1/mol_num)))\n",
    "sam_dom2_0.reset_index(drop=True, inplace=True)\n",
    "dom2_new = result = pd.concat([dom2_1, sam_dom2_0])\n",
    "\n",
    "sampled_dom1 = dom1.groupby('label').apply(lambda x: x.sample(n=int(length_dom2_1/mol_num)))\n",
    "sampled_dom1.reset_index(drop=True, inplace=True)\n",
    "\n",
    "df = pd.concat([sampled_dom1, dom2_new])"
   ]
  },
  {
   "cell_type": "code",
   "execution_count": 516,
   "metadata": {},
   "outputs": [
    {
     "name": "stdout",
     "output_type": "stream",
     "text": [
      "label\n",
      "0    2456\n",
      "1    2456\n",
      "Name: count, dtype: int64\n",
      "model\n",
      "0.0    307\n",
      "1.0    307\n",
      "2.0    307\n",
      "3.0    307\n",
      "4.0    307\n",
      "5.0    307\n",
      "6.0    307\n",
      "Name: count, dtype: int64\n"
     ]
    }
   ],
   "source": [
    "# print(df['label'].value_counts())\n",
    "# print(df['model'].value_counts())\n"
   ]
  },
  {
   "cell_type": "code",
   "execution_count": 49,
   "metadata": {},
   "outputs": [],
   "source": [
    "df = df.sample(frac=1).reset_index(drop=True)\n",
    "df = df.drop(['model'], axis=1)"
   ]
  },
  {
   "cell_type": "code",
   "execution_count": 50,
   "metadata": {},
   "outputs": [],
   "source": [
    "def to_sparse_matrix(sequences, vocab_size):\n",
    "    indptr = [0]\n",
    "    indices = []\n",
    "    data = []\n",
    "    for seq in sequences:\n",
    "        feature_counter = {}\n",
    "        for index in seq:\n",
    "            if index != 0:  # Skip 0s, other words\n",
    "                if index not in feature_counter:\n",
    "                    feature_counter[index] = 1\n",
    "                else:\n",
    "                    feature_counter[index] += 1\n",
    "        indices.extend(feature_counter.keys())\n",
    "        data.extend(feature_counter.values())\n",
    "        indptr.append(len(indices))\n",
    "    return csr_matrix((data, indices, indptr), dtype=int, shape=(len(sequences), vocab_size + 1))\n",
    "\n",
    "vocab_size = 4999\n",
    "X = to_sparse_matrix(df['text'], vocab_size)"
   ]
  },
  {
   "cell_type": "code",
   "execution_count": 51,
   "metadata": {},
   "outputs": [
    {
     "name": "stdout",
     "output_type": "stream",
     "text": [
      "  (0, 79)\t1\n",
      "  (0, 512)\t1\n",
      "  (0, 41)\t1\n",
      "  (0, 359)\t1\n",
      "  (0, 54)\t1\n",
      "  (0, 844)\t1\n",
      "  (0, 1)\t5\n",
      "  (0, 99)\t10\n",
      "  (0, 1406)\t1\n",
      "  (0, 94)\t6\n",
      "  (0, 105)\t9\n",
      "  (0, 11)\t7\n",
      "  (0, 3)\t5\n",
      "  (0, 114)\t2\n",
      "  (0, 2328)\t1\n",
      "  (0, 809)\t2\n",
      "  (0, 39)\t1\n",
      "  (0, 373)\t1\n",
      "  (0, 7)\t1\n",
      "  (0, 58)\t3\n",
      "  (0, 111)\t10\n",
      "  (0, 15)\t4\n",
      "  (0, 536)\t2\n",
      "  (0, 50)\t2\n",
      "  (0, 20)\t2\n",
      "  :\t:\n",
      "  (4911, 28)\t2\n",
      "  (4911, 54)\t1\n",
      "  (4911, 2533)\t1\n",
      "  (4911, 58)\t1\n",
      "  (4911, 179)\t2\n",
      "  (4911, 1836)\t1\n",
      "  (4911, 553)\t1\n",
      "  (4911, 242)\t1\n",
      "  (4911, 810)\t1\n",
      "  (4911, 2964)\t1\n",
      "  (4911, 2419)\t1\n",
      "  (4911, 3066)\t1\n",
      "  (4911, 775)\t1\n",
      "  (4911, 3203)\t1\n",
      "  (4911, 131)\t1\n",
      "  (4911, 297)\t1\n",
      "  (4911, 82)\t1\n",
      "  (4911, 2749)\t1\n",
      "  (4911, 566)\t1\n",
      "  (4911, 646)\t1\n",
      "  (4911, 3389)\t1\n",
      "  (4911, 2707)\t1\n",
      "  (4911, 1858)\t1\n",
      "  (4911, 1150)\t1\n",
      "  (4911, 879)\t1\n"
     ]
    }
   ],
   "source": [
    "print(X)"
   ]
  },
  {
   "cell_type": "code",
   "execution_count": 97,
   "metadata": {},
   "outputs": [],
   "source": [
    "y = df['label']\n",
    "\n",
    "selector = SelectKBest(chi2, k=3000)\n",
    "X_new = selector.fit_transform(X, y)\n",
    "\n",
    "X_pre = to_sparse_matrix(test_set['text'], vocab_size)\n",
    "X_pre_new = selector.transform(X_pre)"
   ]
  },
  {
   "cell_type": "code",
   "execution_count": 301,
   "metadata": {},
   "outputs": [],
   "source": [
    "# # 试一下转成mean，std为feature\n",
    "# df['feature_mean'] = df['text'].apply(np.mean)\n",
    "# df['feature_std'] = df['text'].apply(np.std)\n",
    "# X = df[['feature_mean', 'feature_std']]\n",
    "# y = df['label']\n",
    "\n",
    "# test_set['feature_mean'] = test_set['text'].apply(np.mean)\n",
    "# test_set['feature_std'] = test_set['text'].apply(np.std)\n",
    "# X_pre = test_set[['feature_mean', 'feature_std']]"
   ]
  },
  {
   "cell_type": "code",
   "execution_count": 53,
   "metadata": {},
   "outputs": [
    {
     "data": {
      "text/plain": [
       "<4912x5000 sparse matrix of type '<class 'numpy.int64'>'\n",
       "\twith 344533 stored elements in Compressed Sparse Row format>"
      ]
     },
     "execution_count": 53,
     "metadata": {},
     "output_type": "execute_result"
    }
   ],
   "source": [
    "X"
   ]
  },
  {
   "cell_type": "code",
   "execution_count": 99,
   "metadata": {},
   "outputs": [
    {
     "name": "stdout",
     "output_type": "stream",
     "text": [
      "Test score: 0.7070193285859614\n"
     ]
    }
   ],
   "source": [
    "X_train, X_test, y_train, y_test = train_test_split(X_new, y, test_size=0.2, random_state=42)\n",
    "model = svm.SVC(C=10, gamma=0.001)\n",
    "model.fit(X_train, y_train)\n",
    "\n",
    "score = model.score(X_test, y_test)\n",
    "print(f\"Test score: {score}\")"
   ]
  },
  {
   "cell_type": "code",
   "execution_count": 95,
   "metadata": {},
   "outputs": [
    {
     "name": "stderr",
     "output_type": "stream",
     "text": [
      "/opt/anaconda3/lib/python3.9/site-packages/sklearn/feature_selection/_univariate_selection.py:112: UserWarning: Features [0 0 0 0 0 0 0 0 0 0 0 0 0 0 0 0 0 0 0 0 0 0 0] are constant.\n",
      "  warnings.warn(\"Features %s are constant.\" % constant_features_idx, UserWarning)\n",
      "/opt/anaconda3/lib/python3.9/site-packages/sklearn/feature_selection/_univariate_selection.py:113: RuntimeWarning: invalid value encountered in divide\n",
      "  f = msb / msw\n",
      "/opt/anaconda3/lib/python3.9/site-packages/sklearn/feature_selection/_univariate_selection.py:112: UserWarning: Features [0 0 0 0 0 0 0 0 0 0 0 0 0 0 0 0 0 0 0 0 0 0 0] are constant.\n",
      "  warnings.warn(\"Features %s are constant.\" % constant_features_idx, UserWarning)\n",
      "/opt/anaconda3/lib/python3.9/site-packages/sklearn/feature_selection/_univariate_selection.py:113: RuntimeWarning: invalid value encountered in divide\n",
      "  f = msb / msw\n",
      "/opt/anaconda3/lib/python3.9/site-packages/sklearn/feature_selection/_univariate_selection.py:112: UserWarning: Features [0 0 0 0 0 0 0 0 0 0 0 0 0 0 0 0 0 0 0 0 0 0 0] are constant.\n",
      "  warnings.warn(\"Features %s are constant.\" % constant_features_idx, UserWarning)\n",
      "/opt/anaconda3/lib/python3.9/site-packages/sklearn/feature_selection/_univariate_selection.py:113: RuntimeWarning: invalid value encountered in divide\n",
      "  f = msb / msw\n",
      "/opt/anaconda3/lib/python3.9/site-packages/sklearn/feature_selection/_univariate_selection.py:112: UserWarning: Features [0 0 0 0 0 0 0 0 0 0 0 0 0 0 0 0 0 0 0 0 0 0 0] are constant.\n",
      "  warnings.warn(\"Features %s are constant.\" % constant_features_idx, UserWarning)\n",
      "/opt/anaconda3/lib/python3.9/site-packages/sklearn/feature_selection/_univariate_selection.py:113: RuntimeWarning: invalid value encountered in divide\n",
      "  f = msb / msw\n",
      "/opt/anaconda3/lib/python3.9/site-packages/sklearn/feature_selection/_univariate_selection.py:112: UserWarning: Features [0 0 0 0 0 0 0 0 0 0 0 0 0 0 0 0 0 0 0 0 0 0 0] are constant.\n",
      "  warnings.warn(\"Features %s are constant.\" % constant_features_idx, UserWarning)\n",
      "/opt/anaconda3/lib/python3.9/site-packages/sklearn/feature_selection/_univariate_selection.py:113: RuntimeWarning: invalid value encountered in divide\n",
      "  f = msb / msw\n",
      "/opt/anaconda3/lib/python3.9/site-packages/sklearn/feature_selection/_univariate_selection.py:112: UserWarning: Features [0 0 0 0 0 0 0 0 0 0 0 0 0 0 0 0 0 0 0 0 0 0 0] are constant.\n",
      "  warnings.warn(\"Features %s are constant.\" % constant_features_idx, UserWarning)\n",
      "/opt/anaconda3/lib/python3.9/site-packages/sklearn/feature_selection/_univariate_selection.py:113: RuntimeWarning: invalid value encountered in divide\n",
      "  f = msb / msw\n",
      "/opt/anaconda3/lib/python3.9/site-packages/sklearn/feature_selection/_univariate_selection.py:112: UserWarning: Features [0 0 0 0 0 0 0 0 0 0 0 0 0 0 0 0 0 0 0 0 0 0 0] are constant.\n",
      "  warnings.warn(\"Features %s are constant.\" % constant_features_idx, UserWarning)\n",
      "/opt/anaconda3/lib/python3.9/site-packages/sklearn/feature_selection/_univariate_selection.py:113: RuntimeWarning: invalid value encountered in divide\n",
      "  f = msb / msw\n",
      "/opt/anaconda3/lib/python3.9/site-packages/sklearn/feature_selection/_univariate_selection.py:112: UserWarning: Features [0 0 0 0 0 0 0 0 0 0 0 0 0 0 0 0 0 0 0 0 0 0 0] are constant.\n",
      "  warnings.warn(\"Features %s are constant.\" % constant_features_idx, UserWarning)\n",
      "/opt/anaconda3/lib/python3.9/site-packages/sklearn/feature_selection/_univariate_selection.py:113: RuntimeWarning: invalid value encountered in divide\n",
      "  f = msb / msw\n",
      "/opt/anaconda3/lib/python3.9/site-packages/sklearn/feature_selection/_univariate_selection.py:112: UserWarning: Features [0 0 0 0 0 0 0 0 0 0 0 0 0 0 0 0 0 0 0 0 0 0 0] are constant.\n",
      "  warnings.warn(\"Features %s are constant.\" % constant_features_idx, UserWarning)\n",
      "/opt/anaconda3/lib/python3.9/site-packages/sklearn/feature_selection/_univariate_selection.py:113: RuntimeWarning: invalid value encountered in divide\n",
      "  f = msb / msw\n",
      "/opt/anaconda3/lib/python3.9/site-packages/sklearn/feature_selection/_univariate_selection.py:112: UserWarning: Features [0 0 0 0 0 0 0 0 0 0 0 0 0 0 0 0 0 0 0 0 0 0 0] are constant.\n",
      "  warnings.warn(\"Features %s are constant.\" % constant_features_idx, UserWarning)\n",
      "/opt/anaconda3/lib/python3.9/site-packages/sklearn/feature_selection/_univariate_selection.py:113: RuntimeWarning: invalid value encountered in divide\n",
      "  f = msb / msw\n",
      "/opt/anaconda3/lib/python3.9/site-packages/sklearn/feature_selection/_univariate_selection.py:112: UserWarning: Features [0 0 0 0 0 0 0 0 0 0 0 0 0 0 0 0 0 0 0 0 0 0 0] are constant.\n",
      "  warnings.warn(\"Features %s are constant.\" % constant_features_idx, UserWarning)\n",
      "/opt/anaconda3/lib/python3.9/site-packages/sklearn/feature_selection/_univariate_selection.py:113: RuntimeWarning: invalid value encountered in divide\n",
      "  f = msb / msw\n",
      "/opt/anaconda3/lib/python3.9/site-packages/sklearn/feature_selection/_univariate_selection.py:112: UserWarning: Features [0 0 0 0 0 0 0 0 0 0 0 0 0 0 0 0 0 0 0 0 0 0 0] are constant.\n",
      "  warnings.warn(\"Features %s are constant.\" % constant_features_idx, UserWarning)\n",
      "/opt/anaconda3/lib/python3.9/site-packages/sklearn/feature_selection/_univariate_selection.py:113: RuntimeWarning: invalid value encountered in divide\n",
      "  f = msb / msw\n",
      "/opt/anaconda3/lib/python3.9/site-packages/sklearn/feature_selection/_univariate_selection.py:112: UserWarning: Features [0 0 0 0 0 0 0 0 0 0 0 0 0 0 0 0 0 0 0 0 0 0 0] are constant.\n",
      "  warnings.warn(\"Features %s are constant.\" % constant_features_idx, UserWarning)\n",
      "/opt/anaconda3/lib/python3.9/site-packages/sklearn/feature_selection/_univariate_selection.py:113: RuntimeWarning: invalid value encountered in divide\n",
      "  f = msb / msw\n",
      "/opt/anaconda3/lib/python3.9/site-packages/sklearn/feature_selection/_univariate_selection.py:112: UserWarning: Features [0 0 0 0 0 0 0 0 0 0 0 0 0 0 0 0 0 0 0 0 0 0 0] are constant.\n",
      "  warnings.warn(\"Features %s are constant.\" % constant_features_idx, UserWarning)\n",
      "/opt/anaconda3/lib/python3.9/site-packages/sklearn/feature_selection/_univariate_selection.py:113: RuntimeWarning: invalid value encountered in divide\n",
      "  f = msb / msw\n",
      "/opt/anaconda3/lib/python3.9/site-packages/sklearn/feature_selection/_univariate_selection.py:112: UserWarning: Features [0 0 0 0 0 0 0 0 0 0 0 0 0 0 0 0 0 0 0 0 0 0 0] are constant.\n",
      "  warnings.warn(\"Features %s are constant.\" % constant_features_idx, UserWarning)\n",
      "/opt/anaconda3/lib/python3.9/site-packages/sklearn/feature_selection/_univariate_selection.py:113: RuntimeWarning: invalid value encountered in divide\n",
      "  f = msb / msw\n",
      "/opt/anaconda3/lib/python3.9/site-packages/sklearn/feature_selection/_univariate_selection.py:112: UserWarning: Features [0 0 0 0 0 0 0 0 0 0 0 0 0 0 0 0 0 0 0 0 0 0 0] are constant.\n",
      "  warnings.warn(\"Features %s are constant.\" % constant_features_idx, UserWarning)\n",
      "/opt/anaconda3/lib/python3.9/site-packages/sklearn/feature_selection/_univariate_selection.py:113: RuntimeWarning: invalid value encountered in divide\n",
      "  f = msb / msw\n",
      "/opt/anaconda3/lib/python3.9/site-packages/sklearn/feature_selection/_univariate_selection.py:112: UserWarning: Features [0 0 0 0 0 0 0 0 0 0 0 0 0 0 0 0 0 0 0 0 0 0 0] are constant.\n",
      "  warnings.warn(\"Features %s are constant.\" % constant_features_idx, UserWarning)\n",
      "/opt/anaconda3/lib/python3.9/site-packages/sklearn/feature_selection/_univariate_selection.py:113: RuntimeWarning: invalid value encountered in divide\n",
      "  f = msb / msw\n",
      "/opt/anaconda3/lib/python3.9/site-packages/sklearn/feature_selection/_univariate_selection.py:112: UserWarning: Features [0 0 0 0 0 0 0 0 0 0 0 0 0 0 0 0 0 0 0 0 0 0 0] are constant.\n",
      "  warnings.warn(\"Features %s are constant.\" % constant_features_idx, UserWarning)\n",
      "/opt/anaconda3/lib/python3.9/site-packages/sklearn/feature_selection/_univariate_selection.py:113: RuntimeWarning: invalid value encountered in divide\n",
      "  f = msb / msw\n",
      "/opt/anaconda3/lib/python3.9/site-packages/sklearn/feature_selection/_univariate_selection.py:112: UserWarning: Features [0 0 0 0 0 0 0 0 0 0 0 0 0 0 0 0 0 0 0 0 0 0 0] are constant.\n",
      "  warnings.warn(\"Features %s are constant.\" % constant_features_idx, UserWarning)\n",
      "/opt/anaconda3/lib/python3.9/site-packages/sklearn/feature_selection/_univariate_selection.py:113: RuntimeWarning: invalid value encountered in divide\n",
      "  f = msb / msw\n",
      "/opt/anaconda3/lib/python3.9/site-packages/sklearn/feature_selection/_univariate_selection.py:112: UserWarning: Features [0 0 0 0 0 0 0 0 0 0 0 0 0 0 0 0 0 0 0 0 0 0 0] are constant.\n",
      "  warnings.warn(\"Features %s are constant.\" % constant_features_idx, UserWarning)\n",
      "/opt/anaconda3/lib/python3.9/site-packages/sklearn/feature_selection/_univariate_selection.py:113: RuntimeWarning: invalid value encountered in divide\n",
      "  f = msb / msw\n",
      "/opt/anaconda3/lib/python3.9/site-packages/sklearn/feature_selection/_univariate_selection.py:112: UserWarning: Features [0 0 0 0 0 0 0 0 0 0 0 0 0 0 0 0 0 0 0 0 0 0 0] are constant.\n",
      "  warnings.warn(\"Features %s are constant.\" % constant_features_idx, UserWarning)\n",
      "/opt/anaconda3/lib/python3.9/site-packages/sklearn/feature_selection/_univariate_selection.py:113: RuntimeWarning: invalid value encountered in divide\n",
      "  f = msb / msw\n",
      "/opt/anaconda3/lib/python3.9/site-packages/sklearn/feature_selection/_univariate_selection.py:112: UserWarning: Features [0 0 0 0 0 0 0 0 0 0 0 0 0 0 0 0 0 0 0 0 0 0 0] are constant.\n",
      "  warnings.warn(\"Features %s are constant.\" % constant_features_idx, UserWarning)\n",
      "/opt/anaconda3/lib/python3.9/site-packages/sklearn/feature_selection/_univariate_selection.py:113: RuntimeWarning: invalid value encountered in divide\n",
      "  f = msb / msw\n",
      "/opt/anaconda3/lib/python3.9/site-packages/sklearn/feature_selection/_univariate_selection.py:112: UserWarning: Features [0 0 0 0 0 0 0 0 0 0 0 0 0 0 0 0 0 0 0 0 0 0 0] are constant.\n",
      "  warnings.warn(\"Features %s are constant.\" % constant_features_idx, UserWarning)\n",
      "/opt/anaconda3/lib/python3.9/site-packages/sklearn/feature_selection/_univariate_selection.py:113: RuntimeWarning: invalid value encountered in divide\n",
      "  f = msb / msw\n",
      "/opt/anaconda3/lib/python3.9/site-packages/sklearn/feature_selection/_univariate_selection.py:112: UserWarning: Features [0 0 0 0 0 0 0 0 0 0 0 0 0 0 0 0 0 0 0 0 0 0 0] are constant.\n",
      "  warnings.warn(\"Features %s are constant.\" % constant_features_idx, UserWarning)\n",
      "/opt/anaconda3/lib/python3.9/site-packages/sklearn/feature_selection/_univariate_selection.py:113: RuntimeWarning: invalid value encountered in divide\n",
      "  f = msb / msw\n",
      "/opt/anaconda3/lib/python3.9/site-packages/sklearn/feature_selection/_univariate_selection.py:112: UserWarning: Features [0 0 0 0 0 0 0 0 0 0 0 0 0 0 0 0 0 0 0 0 0 0 0] are constant.\n",
      "  warnings.warn(\"Features %s are constant.\" % constant_features_idx, UserWarning)\n",
      "/opt/anaconda3/lib/python3.9/site-packages/sklearn/feature_selection/_univariate_selection.py:113: RuntimeWarning: invalid value encountered in divide\n",
      "  f = msb / msw\n",
      "/opt/anaconda3/lib/python3.9/site-packages/sklearn/feature_selection/_univariate_selection.py:112: UserWarning: Features [0 0 0 0 0 0 0 0 0 0 0 0 0 0 0 0 0 0 0 0 0 0 0] are constant.\n",
      "  warnings.warn(\"Features %s are constant.\" % constant_features_idx, UserWarning)\n",
      "/opt/anaconda3/lib/python3.9/site-packages/sklearn/feature_selection/_univariate_selection.py:113: RuntimeWarning: invalid value encountered in divide\n",
      "  f = msb / msw\n",
      "/opt/anaconda3/lib/python3.9/site-packages/sklearn/feature_selection/_univariate_selection.py:112: UserWarning: Features [0 0 0 0 0 0 0 0 0 0 0 0 0 0 0 0 0 0 0 0 0 0 0] are constant.\n",
      "  warnings.warn(\"Features %s are constant.\" % constant_features_idx, UserWarning)\n",
      "/opt/anaconda3/lib/python3.9/site-packages/sklearn/feature_selection/_univariate_selection.py:113: RuntimeWarning: invalid value encountered in divide\n",
      "  f = msb / msw\n",
      "/opt/anaconda3/lib/python3.9/site-packages/sklearn/feature_selection/_univariate_selection.py:112: UserWarning: Features [0 0 0 0 0 0 0 0 0 0 0 0 0 0 0 0 0 0 0 0 0 0 0] are constant.\n",
      "  warnings.warn(\"Features %s are constant.\" % constant_features_idx, UserWarning)\n",
      "/opt/anaconda3/lib/python3.9/site-packages/sklearn/feature_selection/_univariate_selection.py:113: RuntimeWarning: invalid value encountered in divide\n",
      "  f = msb / msw\n",
      "/opt/anaconda3/lib/python3.9/site-packages/sklearn/feature_selection/_univariate_selection.py:112: UserWarning: Features [0 0 0 0 0 0 0 0 0 0 0 0 0 0 0 0 0 0 0 0 0 0 0] are constant.\n",
      "  warnings.warn(\"Features %s are constant.\" % constant_features_idx, UserWarning)\n",
      "/opt/anaconda3/lib/python3.9/site-packages/sklearn/feature_selection/_univariate_selection.py:113: RuntimeWarning: invalid value encountered in divide\n",
      "  f = msb / msw\n",
      "/opt/anaconda3/lib/python3.9/site-packages/sklearn/feature_selection/_univariate_selection.py:112: UserWarning: Features [0 0 0 0 0 0 0 0 0 0 0 0 0 0 0 0 0 0 0 0 0 0 0] are constant.\n",
      "  warnings.warn(\"Features %s are constant.\" % constant_features_idx, UserWarning)\n",
      "/opt/anaconda3/lib/python3.9/site-packages/sklearn/feature_selection/_univariate_selection.py:113: RuntimeWarning: invalid value encountered in divide\n",
      "  f = msb / msw\n",
      "/opt/anaconda3/lib/python3.9/site-packages/sklearn/feature_selection/_univariate_selection.py:112: UserWarning: Features [0 0 0 0 0 0 0 0 0 0 0 0 0 0 0 0 0 0 0 0 0 0 0] are constant.\n",
      "  warnings.warn(\"Features %s are constant.\" % constant_features_idx, UserWarning)\n",
      "/opt/anaconda3/lib/python3.9/site-packages/sklearn/feature_selection/_univariate_selection.py:113: RuntimeWarning: invalid value encountered in divide\n",
      "  f = msb / msw\n",
      "/opt/anaconda3/lib/python3.9/site-packages/sklearn/feature_selection/_univariate_selection.py:112: UserWarning: Features [0 0 0 0 0 0 0 0 0 0 0 0 0 0 0 0 0 0 0 0 0 0 0] are constant.\n",
      "  warnings.warn(\"Features %s are constant.\" % constant_features_idx, UserWarning)\n",
      "/opt/anaconda3/lib/python3.9/site-packages/sklearn/feature_selection/_univariate_selection.py:113: RuntimeWarning: invalid value encountered in divide\n",
      "  f = msb / msw\n",
      "/opt/anaconda3/lib/python3.9/site-packages/sklearn/feature_selection/_univariate_selection.py:112: UserWarning: Features [0 0 0 0 0 0 0 0 0 0 0 0 0 0 0 0 0 0 0 0 0 0 0] are constant.\n",
      "  warnings.warn(\"Features %s are constant.\" % constant_features_idx, UserWarning)\n",
      "/opt/anaconda3/lib/python3.9/site-packages/sklearn/feature_selection/_univariate_selection.py:113: RuntimeWarning: invalid value encountered in divide\n",
      "  f = msb / msw\n",
      "/opt/anaconda3/lib/python3.9/site-packages/sklearn/feature_selection/_univariate_selection.py:112: UserWarning: Features [0 0 0 0 0 0 0 0 0 0 0 0 0 0 0 0 0 0 0 0 0 0 0] are constant.\n",
      "  warnings.warn(\"Features %s are constant.\" % constant_features_idx, UserWarning)\n",
      "/opt/anaconda3/lib/python3.9/site-packages/sklearn/feature_selection/_univariate_selection.py:113: RuntimeWarning: invalid value encountered in divide\n",
      "  f = msb / msw\n",
      "/opt/anaconda3/lib/python3.9/site-packages/sklearn/feature_selection/_univariate_selection.py:112: UserWarning: Features [0 0 0 0 0 0 0 0 0 0 0 0 0 0 0 0 0 0 0 0 0 0 0] are constant.\n",
      "  warnings.warn(\"Features %s are constant.\" % constant_features_idx, UserWarning)\n",
      "/opt/anaconda3/lib/python3.9/site-packages/sklearn/feature_selection/_univariate_selection.py:113: RuntimeWarning: invalid value encountered in divide\n",
      "  f = msb / msw\n",
      "/opt/anaconda3/lib/python3.9/site-packages/sklearn/feature_selection/_univariate_selection.py:112: UserWarning: Features [0 0 0 0 0 0 0 0 0 0 0 0 0 0 0 0 0 0 0 0 0 0 0] are constant.\n",
      "  warnings.warn(\"Features %s are constant.\" % constant_features_idx, UserWarning)\n",
      "/opt/anaconda3/lib/python3.9/site-packages/sklearn/feature_selection/_univariate_selection.py:113: RuntimeWarning: invalid value encountered in divide\n",
      "  f = msb / msw\n",
      "/opt/anaconda3/lib/python3.9/site-packages/sklearn/feature_selection/_univariate_selection.py:112: UserWarning: Features [0 0 0 0 0 0 0 0 0 0 0 0 0 0 0 0 0 0 0 0 0 0 0] are constant.\n",
      "  warnings.warn(\"Features %s are constant.\" % constant_features_idx, UserWarning)\n",
      "/opt/anaconda3/lib/python3.9/site-packages/sklearn/feature_selection/_univariate_selection.py:113: RuntimeWarning: invalid value encountered in divide\n",
      "  f = msb / msw\n",
      "/opt/anaconda3/lib/python3.9/site-packages/sklearn/feature_selection/_univariate_selection.py:112: UserWarning: Features [0 0 0 0 0 0 0 0 0 0 0 0 0 0 0 0 0 0 0 0 0 0 0] are constant.\n",
      "  warnings.warn(\"Features %s are constant.\" % constant_features_idx, UserWarning)\n",
      "/opt/anaconda3/lib/python3.9/site-packages/sklearn/feature_selection/_univariate_selection.py:113: RuntimeWarning: invalid value encountered in divide\n",
      "  f = msb / msw\n",
      "/opt/anaconda3/lib/python3.9/site-packages/sklearn/feature_selection/_univariate_selection.py:112: UserWarning: Features [0 0 0 0 0 0 0 0 0 0 0 0 0 0 0 0 0 0 0 0 0 0 0] are constant.\n",
      "  warnings.warn(\"Features %s are constant.\" % constant_features_idx, UserWarning)\n",
      "/opt/anaconda3/lib/python3.9/site-packages/sklearn/feature_selection/_univariate_selection.py:113: RuntimeWarning: invalid value encountered in divide\n",
      "  f = msb / msw\n",
      "/opt/anaconda3/lib/python3.9/site-packages/sklearn/feature_selection/_univariate_selection.py:112: UserWarning: Features [0 0 0 0 0 0 0 0 0 0 0 0 0 0 0 0 0 0 0 0 0 0 0] are constant.\n",
      "  warnings.warn(\"Features %s are constant.\" % constant_features_idx, UserWarning)\n",
      "/opt/anaconda3/lib/python3.9/site-packages/sklearn/feature_selection/_univariate_selection.py:113: RuntimeWarning: invalid value encountered in divide\n",
      "  f = msb / msw\n",
      "/opt/anaconda3/lib/python3.9/site-packages/sklearn/feature_selection/_univariate_selection.py:112: UserWarning: Features [0 0 0 0 0 0 0 0 0 0 0 0 0 0 0 0 0 0 0 0 0 0 0] are constant.\n",
      "  warnings.warn(\"Features %s are constant.\" % constant_features_idx, UserWarning)\n",
      "/opt/anaconda3/lib/python3.9/site-packages/sklearn/feature_selection/_univariate_selection.py:113: RuntimeWarning: invalid value encountered in divide\n",
      "  f = msb / msw\n",
      "/opt/anaconda3/lib/python3.9/site-packages/sklearn/feature_selection/_univariate_selection.py:112: UserWarning: Features [0 0 0 0 0 0 0 0 0 0 0 0 0 0 0 0 0 0 0 0 0 0 0] are constant.\n",
      "  warnings.warn(\"Features %s are constant.\" % constant_features_idx, UserWarning)\n",
      "/opt/anaconda3/lib/python3.9/site-packages/sklearn/feature_selection/_univariate_selection.py:113: RuntimeWarning: invalid value encountered in divide\n",
      "  f = msb / msw\n",
      "/opt/anaconda3/lib/python3.9/site-packages/sklearn/feature_selection/_univariate_selection.py:112: UserWarning: Features [0 0 0 0 0 0 0 0 0 0 0 0 0 0 0 0 0 0 0 0 0 0 0] are constant.\n",
      "  warnings.warn(\"Features %s are constant.\" % constant_features_idx, UserWarning)\n",
      "/opt/anaconda3/lib/python3.9/site-packages/sklearn/feature_selection/_univariate_selection.py:113: RuntimeWarning: invalid value encountered in divide\n",
      "  f = msb / msw\n",
      "/opt/anaconda3/lib/python3.9/site-packages/sklearn/feature_selection/_univariate_selection.py:112: UserWarning: Features [0 0 0 0 0 0 0 0 0 0 0 0 0 0 0 0 0 0 0 0 0 0 0] are constant.\n",
      "  warnings.warn(\"Features %s are constant.\" % constant_features_idx, UserWarning)\n",
      "/opt/anaconda3/lib/python3.9/site-packages/sklearn/feature_selection/_univariate_selection.py:113: RuntimeWarning: invalid value encountered in divide\n",
      "  f = msb / msw\n",
      "/opt/anaconda3/lib/python3.9/site-packages/sklearn/feature_selection/_univariate_selection.py:112: UserWarning: Features [0 0 0 0 0 0 0 0 0 0 0 0 0 0 0 0 0 0 0 0 0 0 0] are constant.\n",
      "  warnings.warn(\"Features %s are constant.\" % constant_features_idx, UserWarning)\n",
      "/opt/anaconda3/lib/python3.9/site-packages/sklearn/feature_selection/_univariate_selection.py:113: RuntimeWarning: invalid value encountered in divide\n",
      "  f = msb / msw\n",
      "/opt/anaconda3/lib/python3.9/site-packages/sklearn/feature_selection/_univariate_selection.py:112: UserWarning: Features [0 0 0 0 0 0 0 0 0 0 0 0 0 0 0 0 0 0 0 0 0 0 0] are constant.\n",
      "  warnings.warn(\"Features %s are constant.\" % constant_features_idx, UserWarning)\n",
      "/opt/anaconda3/lib/python3.9/site-packages/sklearn/feature_selection/_univariate_selection.py:113: RuntimeWarning: invalid value encountered in divide\n",
      "  f = msb / msw\n",
      "/opt/anaconda3/lib/python3.9/site-packages/sklearn/feature_selection/_univariate_selection.py:112: UserWarning: Features [0 0 0 0 0 0 0 0 0 0 0 0 0 0 0 0 0 0 0 0 0 0 0] are constant.\n",
      "  warnings.warn(\"Features %s are constant.\" % constant_features_idx, UserWarning)\n",
      "/opt/anaconda3/lib/python3.9/site-packages/sklearn/feature_selection/_univariate_selection.py:113: RuntimeWarning: invalid value encountered in divide\n",
      "  f = msb / msw\n",
      "/opt/anaconda3/lib/python3.9/site-packages/sklearn/feature_selection/_univariate_selection.py:112: UserWarning: Features [0 0 0 0 0 0 0 0 0 0 0 0 0 0 0 0 0 0 0 0 0 0 0] are constant.\n",
      "  warnings.warn(\"Features %s are constant.\" % constant_features_idx, UserWarning)\n",
      "/opt/anaconda3/lib/python3.9/site-packages/sklearn/feature_selection/_univariate_selection.py:113: RuntimeWarning: invalid value encountered in divide\n",
      "  f = msb / msw\n",
      "/opt/anaconda3/lib/python3.9/site-packages/sklearn/feature_selection/_univariate_selection.py:112: UserWarning: Features [0 0 0 0 0 0 0 0 0 0 0 0 0 0 0 0 0 0 0 0 0 0 0] are constant.\n",
      "  warnings.warn(\"Features %s are constant.\" % constant_features_idx, UserWarning)\n",
      "/opt/anaconda3/lib/python3.9/site-packages/sklearn/feature_selection/_univariate_selection.py:113: RuntimeWarning: invalid value encountered in divide\n",
      "  f = msb / msw\n",
      "/opt/anaconda3/lib/python3.9/site-packages/sklearn/feature_selection/_univariate_selection.py:112: UserWarning: Features [0 0 0 0 0 0 0 0 0 0 0 0 0 0 0 0 0 0 0 0 0 0 0] are constant.\n",
      "  warnings.warn(\"Features %s are constant.\" % constant_features_idx, UserWarning)\n",
      "/opt/anaconda3/lib/python3.9/site-packages/sklearn/feature_selection/_univariate_selection.py:113: RuntimeWarning: invalid value encountered in divide\n",
      "  f = msb / msw\n"
     ]
    }
   ],
   "source": [
    "from sklearn.datasets import make_classification\n",
    "from sklearn.model_selection import train_test_split\n",
    "from sklearn.feature_selection import SelectKBest, chi2\n",
    "from sklearn.svm import SVC\n",
    "from sklearn.metrics import accuracy_score\n",
    "X_train, X_test, y_train, y_test = train_test_split(X, y, test_size=0.2, random_state=42)\n",
    "\n",
    "k_values = []\n",
    "accuracies = []\n",
    "\n",
    "\n",
    "for k in range(100, (X_train.shape[1] + 1),100):\n",
    "    # Apply SelectKBest class to extract top k best features\n",
    "    best_features = SelectKBest(score_func=f_classif, k=k)\n",
    "    X_train_kbest = best_features.fit_transform(X_train, y_train)\n",
    "    X_test_kbest = best_features.transform(X_test)\n",
    "    # train classifier\n",
    "    classifier = SVC(C=10, gamma=0.001)\n",
    "    classifier.fit(X_train_kbest, y_train)\n",
    "    # Predict\n",
    "    y_pred = classifier.predict(X_test_kbest)\n",
    "    acc = accuracy_score(y_test, y_pred)\n",
    "    \n",
    "    k_values.append(k)\n",
    "    accuracies.append(acc)\n"
   ]
  },
  {
   "cell_type": "code",
   "execution_count": 96,
   "metadata": {},
   "outputs": [
    {
     "data": {
      "image/png": "[encoded data removed]",
      "text/plain": [
       "<Figure size 1200x600 with 1 Axes>"
      ]
     },
     "metadata": {},
     "output_type": "display_data"
    }
   ],
   "source": [
    "import matplotlib.pyplot as plt\n",
    "plt.figure(figsize=(12, 6))\n",
    "plt.plot(k_values, accuracies, marker='o', linestyle='-')\n",
    "plt.xlabel('Number of Features (k)')\n",
    "plt.ylabel('Accuracy')\n",
    "plt.title('k vs Accuracy')\n",
    "plt.grid(True)\n",
    "plt.show()\n"
   ]
  },
  {
   "cell_type": "code",
   "execution_count": 100,
   "metadata": {},
   "outputs": [
    {
     "data": {
      "text/plain": [
       "class\n",
       "1    539\n",
       "0    461\n",
       "Name: count, dtype: int64"
      ]
     },
     "execution_count": 100,
     "metadata": {},
     "output_type": "execute_result"
    }
   ],
   "source": [
    "test_pre = model.predict(X_pre_new)\n",
    "result = pd.DataFrame({\n",
    "    'class': test_pre,\n",
    "})\n",
    "result['id'] = result.index\n",
    "result = result[['id'] + [col for col in result.columns if col != 'id']]\n",
    "result['class'].value_counts()"
   ]
  },
  {
   "cell_type": "code",
   "execution_count": 101,
   "metadata": {},
   "outputs": [],
   "source": [
    "result.to_csv('result.csv', index=False)"
   ]
  },
  {
   "cell_type": "code",
   "execution_count": 682,
   "metadata": {},
   "outputs": [
    {
     "name": "stdout",
     "output_type": "stream",
     "text": [
      "Accuracy: 0.6256358087487284\n"
     ]
    }
   ],
   "source": [
    "from sklearn.naive_bayes import MultinomialNB\n",
    "clf = MultinomialNB()\n",
    "clf.fit(X_train, y_train)\n",
    "\n",
    "# Evaluation\n",
    "y_pred = clf.predict(X_test)\n",
    "print(\"Accuracy:\", accuracy_score(y_test, y_pred))"
   ]
  },
  {
   "cell_type": "code",
   "execution_count": 683,
   "metadata": {},
   "outputs": [
    {
     "data": {
      "text/plain": [
       "class\n",
       "0    561\n",
       "1    439\n",
       "Name: count, dtype: int64"
      ]
     },
     "execution_count": 683,
     "metadata": {},
     "output_type": "execute_result"
    }
   ],
   "source": [
    "test_pre = clf.predict(X_pre_new)\n",
    "result = pd.DataFrame({\n",
    "    'class': test_pre,\n",
    "})\n",
    "result['id'] = result.index\n",
    "result = result[['id'] + [col for col in result.columns if col != 'id']]\n",
    "result['class'].value_counts()\n"
   ]
  },
  {
   "cell_type": "code",
   "execution_count": 684,
   "metadata": {},
   "outputs": [],
   "source": [
    "result.to_csv('result.csv', index=False)"
   ]
  },
  {
   "cell_type": "code",
   "execution_count": 644,
   "metadata": {},
   "outputs": [],
   "source": [
    "from sklearn.svm import SVC  \n",
    "kernels = ['Polynomial', 'RBF', 'Sigmoid','Linear']#A function which returns the corresponding SVC model\n",
    "def getClassifier(ktype):\n",
    "    if ktype == 0:\n",
    "        # Polynomial kernal\n",
    "        return SVC(kernel='poly', degree=8, gamma=\"auto\")\n",
    "    elif ktype == 1:\n",
    "        # Radial Basis Function kernal\n",
    "        return SVC(kernel='rbf', gamma=\"auto\")\n",
    "    elif ktype == 2:\n",
    "        # Sigmoid kernal\n",
    "        return SVC(kernel='sigmoid', gamma=\"auto\")\n",
    "    elif ktype == 3:\n",
    "        # Linear kernal\n",
    "        return SVC(kernel='linear', gamma=\"auto\")"
   ]
  },
  {
   "cell_type": "code",
   "execution_count": 646,
   "metadata": {},
   "outputs": [
    {
     "name": "stdout",
     "output_type": "stream",
     "text": [
      "Evaluation: Polynomial kernel\n",
      "              precision    recall  f1-score   support\n",
      "\n",
      "           0       0.51      0.96      0.67       481\n",
      "           1       0.77      0.12      0.21       502\n",
      "\n",
      "    accuracy                           0.53       983\n",
      "   macro avg       0.64      0.54      0.44       983\n",
      "weighted avg       0.64      0.53      0.43       983\n",
      "\n",
      "Evaluation: RBF kernel\n",
      "              precision    recall  f1-score   support\n",
      "\n",
      "           0       0.63      0.80      0.70       510\n",
      "           1       0.69      0.49      0.57       473\n",
      "\n",
      "    accuracy                           0.65       983\n",
      "   macro avg       0.66      0.64      0.64       983\n",
      "weighted avg       0.66      0.65      0.64       983\n",
      "\n",
      "Evaluation: Sigmoid kernel\n",
      "              precision    recall  f1-score   support\n",
      "\n",
      "           0       0.58      0.61      0.60       508\n",
      "           1       0.56      0.52      0.54       475\n",
      "\n",
      "    accuracy                           0.57       983\n",
      "   macro avg       0.57      0.57      0.57       983\n",
      "weighted avg       0.57      0.57      0.57       983\n",
      "\n",
      "Evaluation: Linear kernel\n",
      "              precision    recall  f1-score   support\n",
      "\n",
      "           0       0.63      0.73      0.68       493\n",
      "           1       0.68      0.57      0.62       490\n",
      "\n",
      "    accuracy                           0.65       983\n",
      "   macro avg       0.66      0.65      0.65       983\n",
      "weighted avg       0.66      0.65      0.65       983\n",
      "\n"
     ]
    }
   ],
   "source": [
    "from sklearn.metrics import classification_report, confusion_matrix  \n",
    "for i in range(4):\n",
    "    # Separate data into test and training sets\n",
    "    X_train, X_test, y_train, y_test = train_test_split(X_new, y, test_size = 0.20)# Train a SVC model using different kernal\n",
    "    svclassifier = getClassifier(i) \n",
    "    svclassifier.fit(X_train, y_train)# Make prediction\n",
    "    y_pred = svclassifier.predict(X_test)# Evaluate our model\n",
    "    print(\"Evaluation:\", kernels[i], \"kernel\")\n",
    "    print(classification_report(y_test,y_pred))"
   ]
  },
  {
   "cell_type": "code",
   "execution_count": 600,
   "metadata": {},
   "outputs": [
    {
     "data": {
      "text/plain": [
       "SVC(C=10, gamma=0.001)"
      ]
     },
     "execution_count": 600,
     "metadata": {},
     "output_type": "execute_result"
    }
   ],
   "source": [
    "grid.best_estimator_"
   ]
  },
  {
   "cell_type": "code",
   "execution_count": 647,
   "metadata": {},
   "outputs": [],
   "source": [
    "from sklearn.model_selection import GridSearchCV"
   ]
  },
  {
   "cell_type": "code",
   "execution_count": 648,
   "metadata": {},
   "outputs": [
    {
     "name": "stdout",
     "output_type": "stream",
     "text": [
      "Fitting 5 folds for each of 48 candidates, totalling 240 fits\n",
      "[CV] END .........................C=0.1, gamma=1, kernel=rbf; total time=   3.2s\n",
      "[CV] END .........................C=0.1, gamma=1, kernel=rbf; total time=   3.2s\n",
      "[CV] END .........................C=0.1, gamma=1, kernel=rbf; total time=   3.1s\n",
      "[CV] END .........................C=0.1, gamma=1, kernel=rbf; total time=   3.1s\n",
      "[CV] END .........................C=0.1, gamma=1, kernel=rbf; total time=   3.1s\n",
      "[CV] END ........................C=0.1, gamma=1, kernel=poly; total time=   7.3s\n",
      "[CV] END ........................C=0.1, gamma=1, kernel=poly; total time=   6.3s\n",
      "[CV] END ........................C=0.1, gamma=1, kernel=poly; total time=   6.9s\n",
      "[CV] END ........................C=0.1, gamma=1, kernel=poly; total time=   8.2s\n",
      "[CV] END ........................C=0.1, gamma=1, kernel=poly; total time=   7.2s\n",
      "[CV] END .....................C=0.1, gamma=1, kernel=sigmoid; total time=   3.2s\n",
      "[CV] END .....................C=0.1, gamma=1, kernel=sigmoid; total time=   3.1s\n",
      "[CV] END .....................C=0.1, gamma=1, kernel=sigmoid; total time=   3.2s\n",
      "[CV] END .....................C=0.1, gamma=1, kernel=sigmoid; total time=   3.2s\n",
      "[CV] END .....................C=0.1, gamma=1, kernel=sigmoid; total time=   3.1s\n",
      "[CV] END .......................C=0.1, gamma=0.1, kernel=rbf; total time=   3.2s\n",
      "[CV] END .......................C=0.1, gamma=0.1, kernel=rbf; total time=   3.1s\n",
      "[CV] END .......................C=0.1, gamma=0.1, kernel=rbf; total time=   3.1s\n",
      "[CV] END .......................C=0.1, gamma=0.1, kernel=rbf; total time=   3.1s\n",
      "[CV] END .......................C=0.1, gamma=0.1, kernel=rbf; total time=   3.1s\n",
      "[CV] END ......................C=0.1, gamma=0.1, kernel=poly; total time=   4.6s\n",
      "[CV] END ......................C=0.1, gamma=0.1, kernel=poly; total time=   4.6s\n",
      "[CV] END ......................C=0.1, gamma=0.1, kernel=poly; total time=   5.9s\n",
      "[CV] END ......................C=0.1, gamma=0.1, kernel=poly; total time=   5.3s\n",
      "[CV] END ......................C=0.1, gamma=0.1, kernel=poly; total time=   5.8s\n",
      "[CV] END ...................C=0.1, gamma=0.1, kernel=sigmoid; total time=   2.5s\n",
      "[CV] END ...................C=0.1, gamma=0.1, kernel=sigmoid; total time=   2.4s\n",
      "[CV] END ...................C=0.1, gamma=0.1, kernel=sigmoid; total time=   2.5s\n",
      "[CV] END ...................C=0.1, gamma=0.1, kernel=sigmoid; total time=   2.5s\n",
      "[CV] END ...................C=0.1, gamma=0.1, kernel=sigmoid; total time=   2.5s\n",
      "[CV] END ......................C=0.1, gamma=0.01, kernel=rbf; total time=   3.0s\n",
      "[CV] END ......................C=0.1, gamma=0.01, kernel=rbf; total time=   3.0s\n",
      "[CV] END ......................C=0.1, gamma=0.01, kernel=rbf; total time=   3.1s\n",
      "[CV] END ......................C=0.1, gamma=0.01, kernel=rbf; total time=   3.0s\n",
      "[CV] END ......................C=0.1, gamma=0.01, kernel=rbf; total time=   3.0s\n",
      "[CV] END .....................C=0.1, gamma=0.01, kernel=poly; total time=   2.7s\n",
      "[CV] END .....................C=0.1, gamma=0.01, kernel=poly; total time=   2.7s\n",
      "[CV] END .....................C=0.1, gamma=0.01, kernel=poly; total time=   2.6s\n",
      "[CV] END .....................C=0.1, gamma=0.01, kernel=poly; total time=   2.7s\n",
      "[CV] END .....................C=0.1, gamma=0.01, kernel=poly; total time=   2.6s\n",
      "[CV] END ..................C=0.1, gamma=0.01, kernel=sigmoid; total time=   1.9s\n",
      "[CV] END ..................C=0.1, gamma=0.01, kernel=sigmoid; total time=   1.9s\n",
      "[CV] END ..................C=0.1, gamma=0.01, kernel=sigmoid; total time=   1.9s\n",
      "[CV] END ..................C=0.1, gamma=0.01, kernel=sigmoid; total time=   1.9s\n",
      "[CV] END ..................C=0.1, gamma=0.01, kernel=sigmoid; total time=   1.9s\n",
      "[CV] END .....................C=0.1, gamma=0.001, kernel=rbf; total time=   2.8s\n",
      "[CV] END .....................C=0.1, gamma=0.001, kernel=rbf; total time=   2.8s\n",
      "[CV] END .....................C=0.1, gamma=0.001, kernel=rbf; total time=   3.0s\n",
      "[CV] END .....................C=0.1, gamma=0.001, kernel=rbf; total time=   2.9s\n",
      "[CV] END .....................C=0.1, gamma=0.001, kernel=rbf; total time=   2.9s\n",
      "[CV] END ....................C=0.1, gamma=0.001, kernel=poly; total time=   2.8s\n",
      "[CV] END ....................C=0.1, gamma=0.001, kernel=poly; total time=   2.7s\n",
      "[CV] END ....................C=0.1, gamma=0.001, kernel=poly; total time=   2.7s\n",
      "[CV] END ....................C=0.1, gamma=0.001, kernel=poly; total time=   2.8s\n",
      "[CV] END ....................C=0.1, gamma=0.001, kernel=poly; total time=   2.7s\n",
      "[CV] END .................C=0.1, gamma=0.001, kernel=sigmoid; total time=   2.0s\n",
      "[CV] END .................C=0.1, gamma=0.001, kernel=sigmoid; total time=   2.0s\n",
      "[CV] END .................C=0.1, gamma=0.001, kernel=sigmoid; total time=   2.0s\n",
      "[CV] END .................C=0.1, gamma=0.001, kernel=sigmoid; total time=   2.0s\n",
      "[CV] END .................C=0.1, gamma=0.001, kernel=sigmoid; total time=   2.0s\n",
      "[CV] END ...........................C=1, gamma=1, kernel=rbf; total time=   3.2s\n",
      "[CV] END ...........................C=1, gamma=1, kernel=rbf; total time=   3.2s\n",
      "[CV] END ...........................C=1, gamma=1, kernel=rbf; total time=   3.2s\n",
      "[CV] END ...........................C=1, gamma=1, kernel=rbf; total time=   3.2s\n",
      "[CV] END ...........................C=1, gamma=1, kernel=rbf; total time=   3.2s\n",
      "[CV] END ..........................C=1, gamma=1, kernel=poly; total time=   6.6s\n",
      "[CV] END ..........................C=1, gamma=1, kernel=poly; total time=   6.3s\n",
      "[CV] END ..........................C=1, gamma=1, kernel=poly; total time=   6.7s\n",
      "[CV] END ..........................C=1, gamma=1, kernel=poly; total time=   9.4s\n",
      "[CV] END ..........................C=1, gamma=1, kernel=poly; total time=   7.0s\n",
      "[CV] END .......................C=1, gamma=1, kernel=sigmoid; total time=   2.9s\n",
      "[CV] END .......................C=1, gamma=1, kernel=sigmoid; total time=   2.9s\n",
      "[CV] END .......................C=1, gamma=1, kernel=sigmoid; total time=   2.9s\n",
      "[CV] END .......................C=1, gamma=1, kernel=sigmoid; total time=   2.9s\n",
      "[CV] END .......................C=1, gamma=1, kernel=sigmoid; total time=   3.1s\n",
      "[CV] END .........................C=1, gamma=0.1, kernel=rbf; total time=   3.2s\n",
      "[CV] END .........................C=1, gamma=0.1, kernel=rbf; total time=   3.2s\n",
      "[CV] END .........................C=1, gamma=0.1, kernel=rbf; total time=   3.2s\n",
      "[CV] END .........................C=1, gamma=0.1, kernel=rbf; total time=   3.2s\n",
      "[CV] END .........................C=1, gamma=0.1, kernel=rbf; total time=   3.1s\n",
      "[CV] END ........................C=1, gamma=0.1, kernel=poly; total time=   6.9s\n",
      "[CV] END ........................C=1, gamma=0.1, kernel=poly; total time=   6.7s\n",
      "[CV] END ........................C=1, gamma=0.1, kernel=poly; total time=   6.1s\n",
      "[CV] END ........................C=1, gamma=0.1, kernel=poly; total time=   6.7s\n",
      "[CV] END ........................C=1, gamma=0.1, kernel=poly; total time=   6.2s\n",
      "[CV] END .....................C=1, gamma=0.1, kernel=sigmoid; total time=   2.0s\n",
      "[CV] END .....................C=1, gamma=0.1, kernel=sigmoid; total time=   1.9s\n",
      "[CV] END .....................C=1, gamma=0.1, kernel=sigmoid; total time=   1.8s\n",
      "[CV] END .....................C=1, gamma=0.1, kernel=sigmoid; total time=   1.9s\n",
      "[CV] END .....................C=1, gamma=0.1, kernel=sigmoid; total time=   1.9s\n",
      "[CV] END ........................C=1, gamma=0.01, kernel=rbf; total time=   2.9s\n",
      "[CV] END ........................C=1, gamma=0.01, kernel=rbf; total time=   2.9s\n",
      "[CV] END ........................C=1, gamma=0.01, kernel=rbf; total time=   3.0s\n",
      "[CV] END ........................C=1, gamma=0.01, kernel=rbf; total time=   3.0s\n",
      "[CV] END ........................C=1, gamma=0.01, kernel=rbf; total time=   2.9s\n",
      "[CV] END .......................C=1, gamma=0.01, kernel=poly; total time=   2.3s\n",
      "[CV] END .......................C=1, gamma=0.01, kernel=poly; total time=   2.4s\n",
      "[CV] END .......................C=1, gamma=0.01, kernel=poly; total time=   2.2s\n",
      "[CV] END .......................C=1, gamma=0.01, kernel=poly; total time=   2.4s\n",
      "[CV] END .......................C=1, gamma=0.01, kernel=poly; total time=   2.3s\n",
      "[CV] END ....................C=1, gamma=0.01, kernel=sigmoid; total time=   2.0s\n",
      "[CV] END ....................C=1, gamma=0.01, kernel=sigmoid; total time=   1.9s\n",
      "[CV] END ....................C=1, gamma=0.01, kernel=sigmoid; total time=   1.9s\n",
      "[CV] END ....................C=1, gamma=0.01, kernel=sigmoid; total time=   1.9s\n",
      "[CV] END ....................C=1, gamma=0.01, kernel=sigmoid; total time=   1.9s\n",
      "[CV] END .......................C=1, gamma=0.001, kernel=rbf; total time=   2.8s\n",
      "[CV] END .......................C=1, gamma=0.001, kernel=rbf; total time=   2.7s\n",
      "[CV] END .......................C=1, gamma=0.001, kernel=rbf; total time=   2.7s\n",
      "[CV] END .......................C=1, gamma=0.001, kernel=rbf; total time=   2.7s\n",
      "[CV] END .......................C=1, gamma=0.001, kernel=rbf; total time=   2.7s\n",
      "[CV] END ......................C=1, gamma=0.001, kernel=poly; total time=   2.7s\n",
      "[CV] END ......................C=1, gamma=0.001, kernel=poly; total time=   2.6s\n",
      "[CV] END ......................C=1, gamma=0.001, kernel=poly; total time=   2.6s\n",
      "[CV] END ......................C=1, gamma=0.001, kernel=poly; total time=   2.7s\n",
      "[CV] END ......................C=1, gamma=0.001, kernel=poly; total time=   2.6s\n",
      "[CV] END ...................C=1, gamma=0.001, kernel=sigmoid; total time=   1.7s\n",
      "[CV] END ...................C=1, gamma=0.001, kernel=sigmoid; total time=   1.7s\n",
      "[CV] END ...................C=1, gamma=0.001, kernel=sigmoid; total time=   1.7s\n",
      "[CV] END ...................C=1, gamma=0.001, kernel=sigmoid; total time=   1.7s\n",
      "[CV] END ...................C=1, gamma=0.001, kernel=sigmoid; total time=   1.7s\n",
      "[CV] END ..........................C=10, gamma=1, kernel=rbf; total time=   3.1s\n",
      "[CV] END ..........................C=10, gamma=1, kernel=rbf; total time=   3.1s\n",
      "[CV] END ..........................C=10, gamma=1, kernel=rbf; total time=   3.2s\n",
      "[CV] END ..........................C=10, gamma=1, kernel=rbf; total time=   3.2s\n",
      "[CV] END ..........................C=10, gamma=1, kernel=rbf; total time=   3.2s\n",
      "[CV] END .........................C=10, gamma=1, kernel=poly; total time=   6.6s\n",
      "[CV] END .........................C=10, gamma=1, kernel=poly; total time=   6.2s\n",
      "[CV] END .........................C=10, gamma=1, kernel=poly; total time=   6.5s\n",
      "[CV] END .........................C=10, gamma=1, kernel=poly; total time=   9.0s\n",
      "[CV] END .........................C=10, gamma=1, kernel=poly; total time=   6.7s\n",
      "[CV] END ......................C=10, gamma=1, kernel=sigmoid; total time=   2.9s\n",
      "[CV] END ......................C=10, gamma=1, kernel=sigmoid; total time=   2.6s\n",
      "[CV] END ......................C=10, gamma=1, kernel=sigmoid; total time=   2.7s\n",
      "[CV] END ......................C=10, gamma=1, kernel=sigmoid; total time=   3.2s\n",
      "[CV] END ......................C=10, gamma=1, kernel=sigmoid; total time=   2.9s\n",
      "[CV] END ........................C=10, gamma=0.1, kernel=rbf; total time=   3.3s\n",
      "[CV] END ........................C=10, gamma=0.1, kernel=rbf; total time=   3.7s\n",
      "[CV] END ........................C=10, gamma=0.1, kernel=rbf; total time=   3.3s\n",
      "[CV] END ........................C=10, gamma=0.1, kernel=rbf; total time=   3.3s\n",
      "[CV] END ........................C=10, gamma=0.1, kernel=rbf; total time=   3.1s\n",
      "[CV] END .......................C=10, gamma=0.1, kernel=poly; total time=   6.4s\n",
      "[CV] END .......................C=10, gamma=0.1, kernel=poly; total time=   6.8s\n",
      "[CV] END .......................C=10, gamma=0.1, kernel=poly; total time=   7.6s\n",
      "[CV] END .......................C=10, gamma=0.1, kernel=poly; total time=   8.6s\n",
      "[CV] END .......................C=10, gamma=0.1, kernel=poly; total time=   7.4s\n",
      "[CV] END ....................C=10, gamma=0.1, kernel=sigmoid; total time=   2.0s\n",
      "[CV] END ....................C=10, gamma=0.1, kernel=sigmoid; total time=   1.9s\n",
      "[CV] END ....................C=10, gamma=0.1, kernel=sigmoid; total time=   1.9s\n",
      "[CV] END ....................C=10, gamma=0.1, kernel=sigmoid; total time=   1.9s\n",
      "[CV] END ....................C=10, gamma=0.1, kernel=sigmoid; total time=   1.9s\n",
      "[CV] END .......................C=10, gamma=0.01, kernel=rbf; total time=   3.2s\n",
      "[CV] END .......................C=10, gamma=0.01, kernel=rbf; total time=   3.1s\n",
      "[CV] END .......................C=10, gamma=0.01, kernel=rbf; total time=   3.1s\n",
      "[CV] END .......................C=10, gamma=0.01, kernel=rbf; total time=   3.2s\n",
      "[CV] END .......................C=10, gamma=0.01, kernel=rbf; total time=   3.2s\n",
      "[CV] END ......................C=10, gamma=0.01, kernel=poly; total time=   3.8s\n",
      "[CV] END ......................C=10, gamma=0.01, kernel=poly; total time=   4.0s\n",
      "[CV] END ......................C=10, gamma=0.01, kernel=poly; total time=   4.1s\n",
      "[CV] END ......................C=10, gamma=0.01, kernel=poly; total time=   4.5s\n",
      "[CV] END ......................C=10, gamma=0.01, kernel=poly; total time=   4.1s\n",
      "[CV] END ...................C=10, gamma=0.01, kernel=sigmoid; total time=   2.0s\n",
      "[CV] END ...................C=10, gamma=0.01, kernel=sigmoid; total time=   1.9s\n",
      "[CV] END ...................C=10, gamma=0.01, kernel=sigmoid; total time=   1.9s\n",
      "[CV] END ...................C=10, gamma=0.01, kernel=sigmoid; total time=   1.9s\n",
      "[CV] END ...................C=10, gamma=0.01, kernel=sigmoid; total time=   1.9s\n",
      "[CV] END ......................C=10, gamma=0.001, kernel=rbf; total time=   2.7s\n",
      "[CV] END ......................C=10, gamma=0.001, kernel=rbf; total time=   2.7s\n",
      "[CV] END ......................C=10, gamma=0.001, kernel=rbf; total time=   2.6s\n",
      "[CV] END ......................C=10, gamma=0.001, kernel=rbf; total time=   2.7s\n",
      "[CV] END ......................C=10, gamma=0.001, kernel=rbf; total time=   2.7s\n",
      "[CV] END .....................C=10, gamma=0.001, kernel=poly; total time=   2.6s\n",
      "[CV] END .....................C=10, gamma=0.001, kernel=poly; total time=   2.6s\n",
      "[CV] END .....................C=10, gamma=0.001, kernel=poly; total time=   2.6s\n",
      "[CV] END .....................C=10, gamma=0.001, kernel=poly; total time=   2.6s\n",
      "[CV] END .....................C=10, gamma=0.001, kernel=poly; total time=   2.6s\n",
      "[CV] END ..................C=10, gamma=0.001, kernel=sigmoid; total time=   1.7s\n",
      "[CV] END ..................C=10, gamma=0.001, kernel=sigmoid; total time=   1.6s\n",
      "[CV] END ..................C=10, gamma=0.001, kernel=sigmoid; total time=   1.6s\n",
      "[CV] END ..................C=10, gamma=0.001, kernel=sigmoid; total time=   1.7s\n",
      "[CV] END ..................C=10, gamma=0.001, kernel=sigmoid; total time=   1.7s\n",
      "[CV] END .........................C=100, gamma=1, kernel=rbf; total time=   3.2s\n",
      "[CV] END .........................C=100, gamma=1, kernel=rbf; total time=   3.2s\n",
      "[CV] END .........................C=100, gamma=1, kernel=rbf; total time=   3.1s\n",
      "[CV] END .........................C=100, gamma=1, kernel=rbf; total time=   3.1s\n",
      "[CV] END .........................C=100, gamma=1, kernel=rbf; total time=   3.2s\n",
      "[CV] END ........................C=100, gamma=1, kernel=poly; total time=   6.7s\n",
      "[CV] END ........................C=100, gamma=1, kernel=poly; total time=   6.3s\n",
      "[CV] END ........................C=100, gamma=1, kernel=poly; total time=   6.7s\n",
      "[CV] END ........................C=100, gamma=1, kernel=poly; total time=   9.0s\n",
      "[CV] END ........................C=100, gamma=1, kernel=poly; total time=   6.8s\n",
      "[CV] END .....................C=100, gamma=1, kernel=sigmoid; total time=   2.6s\n",
      "[CV] END .....................C=100, gamma=1, kernel=sigmoid; total time=   2.5s\n",
      "[CV] END .....................C=100, gamma=1, kernel=sigmoid; total time=   2.5s\n",
      "[CV] END .....................C=100, gamma=1, kernel=sigmoid; total time=   2.6s\n",
      "[CV] END .....................C=100, gamma=1, kernel=sigmoid; total time=   2.5s\n",
      "[CV] END .......................C=100, gamma=0.1, kernel=rbf; total time=   3.1s\n",
      "[CV] END .......................C=100, gamma=0.1, kernel=rbf; total time=   3.1s\n",
      "[CV] END .......................C=100, gamma=0.1, kernel=rbf; total time=   3.1s\n",
      "[CV] END .......................C=100, gamma=0.1, kernel=rbf; total time=   3.1s\n",
      "[CV] END .......................C=100, gamma=0.1, kernel=rbf; total time=   3.1s\n",
      "[CV] END ......................C=100, gamma=0.1, kernel=poly; total time=   7.3s\n",
      "[CV] END ......................C=100, gamma=0.1, kernel=poly; total time=   6.0s\n",
      "[CV] END ......................C=100, gamma=0.1, kernel=poly; total time=   7.4s\n",
      "[CV] END ......................C=100, gamma=0.1, kernel=poly; total time=   8.5s\n",
      "[CV] END ......................C=100, gamma=0.1, kernel=poly; total time=   7.7s\n",
      "[CV] END ...................C=100, gamma=0.1, kernel=sigmoid; total time=   2.0s\n",
      "[CV] END ...................C=100, gamma=0.1, kernel=sigmoid; total time=   1.9s\n",
      "[CV] END ...................C=100, gamma=0.1, kernel=sigmoid; total time=   1.9s\n",
      "[CV] END ...................C=100, gamma=0.1, kernel=sigmoid; total time=   2.0s\n",
      "[CV] END ...................C=100, gamma=0.1, kernel=sigmoid; total time=   1.9s\n",
      "[CV] END ......................C=100, gamma=0.01, kernel=rbf; total time=   3.2s\n",
      "[CV] END ......................C=100, gamma=0.01, kernel=rbf; total time=   3.2s\n",
      "[CV] END ......................C=100, gamma=0.01, kernel=rbf; total time=   3.2s\n",
      "[CV] END ......................C=100, gamma=0.01, kernel=rbf; total time=   3.2s\n",
      "[CV] END ......................C=100, gamma=0.01, kernel=rbf; total time=   3.2s\n",
      "[CV] END .....................C=100, gamma=0.01, kernel=poly; total time=   5.2s\n",
      "[CV] END .....................C=100, gamma=0.01, kernel=poly; total time=   4.5s\n",
      "[CV] END .....................C=100, gamma=0.01, kernel=poly; total time=   5.5s\n",
      "[CV] END .....................C=100, gamma=0.01, kernel=poly; total time=   5.3s\n",
      "[CV] END .....................C=100, gamma=0.01, kernel=poly; total time=   6.6s\n",
      "[CV] END ..................C=100, gamma=0.01, kernel=sigmoid; total time=   2.0s\n",
      "[CV] END ..................C=100, gamma=0.01, kernel=sigmoid; total time=   2.1s\n",
      "[CV] END ..................C=100, gamma=0.01, kernel=sigmoid; total time=   2.0s\n",
      "[CV] END ..................C=100, gamma=0.01, kernel=sigmoid; total time=   1.9s\n",
      "[CV] END ..................C=100, gamma=0.01, kernel=sigmoid; total time=   1.9s\n",
      "[CV] END .....................C=100, gamma=0.001, kernel=rbf; total time=   3.3s\n",
      "[CV] END .....................C=100, gamma=0.001, kernel=rbf; total time=   2.9s\n",
      "[CV] END .....................C=100, gamma=0.001, kernel=rbf; total time=   2.9s\n",
      "[CV] END .....................C=100, gamma=0.001, kernel=rbf; total time=   3.0s\n",
      "[CV] END .....................C=100, gamma=0.001, kernel=rbf; total time=   2.9s\n",
      "[CV] END ....................C=100, gamma=0.001, kernel=poly; total time=   2.8s\n",
      "[CV] END ....................C=100, gamma=0.001, kernel=poly; total time=   2.8s\n",
      "[CV] END ....................C=100, gamma=0.001, kernel=poly; total time=   2.7s\n",
      "[CV] END ....................C=100, gamma=0.001, kernel=poly; total time=   2.7s\n",
      "[CV] END ....................C=100, gamma=0.001, kernel=poly; total time=   2.6s\n",
      "[CV] END .................C=100, gamma=0.001, kernel=sigmoid; total time=   1.7s\n",
      "[CV] END .................C=100, gamma=0.001, kernel=sigmoid; total time=   1.7s\n",
      "[CV] END .................C=100, gamma=0.001, kernel=sigmoid; total time=   1.7s\n",
      "[CV] END .................C=100, gamma=0.001, kernel=sigmoid; total time=   1.7s\n",
      "[CV] END .................C=100, gamma=0.001, kernel=sigmoid; total time=   1.7s\n",
      "SVC(C=10, gamma=0.001)\n"
     ]
    }
   ],
   "source": [
    "param_grid = {'C': [0.1,1, 10, 100], 'gamma': [1,0.1,0.01,0.001],'kernel': ['rbf', 'poly', 'sigmoid']}\n",
    "grid = GridSearchCV(SVC(),param_grid,refit=True,verbose=2)\n",
    "grid.fit(X_train,y_train)\n",
    "print(grid.best_estimator_)"
   ]
  },
  {
   "cell_type": "code",
   "execution_count": 662,
   "metadata": {},
   "outputs": [
    {
     "name": "stdout",
     "output_type": "stream",
     "text": [
      "SVC(C=10, gamma=0.001)\n"
     ]
    }
   ],
   "source": [
    "print(grid.best_estimator_)"
   ]
  },
  {
   "cell_type": "code",
   "execution_count": 663,
   "metadata": {},
   "outputs": [
    {
     "data": {
      "text/plain": [
       "0.6927772126144456"
      ]
     },
     "execution_count": 663,
     "metadata": {},
     "output_type": "execute_result"
    }
   ],
   "source": [
    "accuracy_score(y_test, grid.best_estimator_.predict(X_test))"
   ]
  },
  {
   "cell_type": "code",
   "execution_count": 664,
   "metadata": {},
   "outputs": [
    {
     "name": "stdout",
     "output_type": "stream",
     "text": [
      "[[371 122]\n",
      " [180 310]]\n",
      "              precision    recall  f1-score   support\n",
      "\n",
      "           0       0.67      0.75      0.71       493\n",
      "           1       0.72      0.63      0.67       490\n",
      "\n",
      "    accuracy                           0.69       983\n",
      "   macro avg       0.70      0.69      0.69       983\n",
      "weighted avg       0.70      0.69      0.69       983\n",
      "\n"
     ]
    }
   ],
   "source": [
    "grid_predictions = grid.predict(X_test)\n",
    "print(confusion_matrix(y_test,grid_predictions))\n",
    "print(classification_report(y_test,grid_predictions))#Output"
   ]
  },
  {
   "cell_type": "code",
   "execution_count": 665,
   "metadata": {},
   "outputs": [
    {
     "data": {
      "text/plain": [
       "class\n",
       "1    548\n",
       "0    452\n",
       "Name: count, dtype: int64"
      ]
     },
     "execution_count": 665,
     "metadata": {},
     "output_type": "execute_result"
    }
   ],
   "source": [
    "#test_pre_tun = grid.predict(X_pre_new)\n",
    "test_pre_tun = grid.best_estimator_.predict(X_pre_new)\n",
    "result_tun = pd.DataFrame({\n",
    "    'class': test_pre_tun,\n",
    "})\n",
    "result_tun['id'] = result_tun.index\n",
    "result_tun = result_tun[['id'] + [col for col in result_tun.columns if col != 'id']]\n",
    "result_tun['class'].value_counts()"
   ]
  },
  {
   "cell_type": "code",
   "execution_count": 666,
   "metadata": {},
   "outputs": [
    {
     "data": {
      "text/plain": [
       "class\n",
       "1    553\n",
       "0    447\n",
       "Name: count, dtype: int64"
      ]
     },
     "execution_count": 666,
     "metadata": {},
     "output_type": "execute_result"
    }
   ],
   "source": [
    "result['class'].value_counts()"
   ]
  },
  {
   "cell_type": "code",
   "execution_count": 667,
   "metadata": {},
   "outputs": [],
   "source": [
    "result_tun.to_csv('result_tun.csv', index=False)"
   ]
  },
  {
   "cell_type": "code",
   "execution_count": 678,
   "metadata": {},
   "outputs": [],
   "source": [
    "a = pd.read_csv('result_tun.csv')\n",
    "b = pd.read_csv('result.csv')\n",
    "c = pd.read_csv('1.csv')"
   ]
  },
  {
   "cell_type": "code",
   "execution_count": 676,
   "metadata": {},
   "outputs": [
    {
     "data": {
      "text/plain": [
       "class\n",
       "1    548\n",
       "0    452\n",
       "Name: count, dtype: int64"
      ]
     },
     "execution_count": 676,
     "metadata": {},
     "output_type": "execute_result"
    }
   ],
   "source": [
    "a['class'].value_counts()"
   ]
  },
  {
   "cell_type": "code",
   "execution_count": 679,
   "metadata": {},
   "outputs": [
    {
     "data": {
      "text/plain": [
       "class\n",
       "1    548\n",
       "0    452\n",
       "Name: count, dtype: int64"
      ]
     },
     "execution_count": 679,
     "metadata": {},
     "output_type": "execute_result"
    }
   ],
   "source": [
    "c['class'].value_counts()"
   ]
  },
  {
   "cell_type": "code",
   "execution_count": 677,
   "metadata": {},
   "outputs": [
    {
     "data": {
      "text/plain": [
       "class\n",
       "1    553\n",
       "0    447\n",
       "Name: count, dtype: int64"
      ]
     },
     "execution_count": 677,
     "metadata": {},
     "output_type": "execute_result"
    }
   ],
   "source": [
    "b['class'].value_counts()"
   ]
  },
  {
   "cell_type": "code",
   "execution_count": 497,
   "metadata": {},
   "outputs": [],
   "source": [
    "from sklearn.datasets import make_classification"
   ]
  },
  {
   "cell_type": "code",
   "execution_count": 466,
   "metadata": {},
   "outputs": [],
   "source": [
    "df1 = pd.concat([sampled_dom1, dom2])\n",
    "df1 = df1.drop(['model'], axis=1)"
   ]
  },
  {
   "cell_type": "code",
   "execution_count": 554,
   "metadata": {},
   "outputs": [],
   "source": [
    "X1 = to_sparse_matrix(df1['text'], vocab_size)\n",
    "y1 = df1['label']\n",
    "selector = SelectKBest(chi2, k=1000)\n",
    "X_new1 = selector.fit_transform(X1, y1)\n",
    "\n",
    "X_train, X_test, y_train, y_test = train_test_split(X_new1, y1, test_size=0.33, random_state=42)"
   ]
  },
  {
   "cell_type": "code",
   "execution_count": 562,
   "metadata": {},
   "outputs": [
    {
     "data": {
      "text/plain": [
       "OneClassSVM(gamma='auto', nu=0.1)"
      ]
     },
     "execution_count": 562,
     "metadata": {},
     "output_type": "execute_result"
    }
   ],
   "source": [
    "from sklearn.svm import OneClassSVM\n",
    "# Extracting the majority class for training\n",
    "X_train_majority = X_train[y_train==0]\n",
    "\n",
    "# Defining and training the model\n",
    "one_class_svm = OneClassSVM(kernel='rbf', nu=0.1, gamma='auto')\n",
    "one_class_svm.fit(X_train_majority)"
   ]
  },
  {
   "cell_type": "code",
   "execution_count": 563,
   "metadata": {},
   "outputs": [
    {
     "name": "stdout",
     "output_type": "stream",
     "text": [
      "Classification Report:\n",
      "              precision    recall  f1-score   support\n",
      "\n",
      "           0       0.86      0.90      0.88      4327\n",
      "           1       0.26      0.19      0.22       793\n",
      "\n",
      "    accuracy                           0.79      5120\n",
      "   macro avg       0.56      0.54      0.55      5120\n",
      "weighted avg       0.77      0.79      0.78      5120\n",
      "\n",
      "Confusion Matrix:\n",
      "[[3892  435]\n",
      " [ 643  150]]\n"
     ]
    }
   ],
   "source": [
    "# Predict (1 for inliers which are majority class, -1 for outliers which are minority class)\n",
    "y_pred = one_class_svm.predict(X_test)\n",
    "\n",
    "# Convert predictions to match original labels\n",
    "# Inliers (majority class) are labelled 0 and outliers (minority class) are labelled 1\n",
    "y_pred = np.where(y_pred == 1, 0, 1)\n",
    "\n",
    "# Evaluate the model\n",
    "print(\"Classification Report:\")\n",
    "print(classification_report(y_test, y_pred))\n",
    "\n",
    "print(\"Confusion Matrix:\")\n",
    "print(confusion_matrix(y_test, y_pred))"
   ]
  },
  {
   "cell_type": "code",
   "execution_count": 564,
   "metadata": {},
   "outputs": [],
   "source": [
    "y_res = one_class_svm.predict(X_pre_new)\n",
    "result1 = np.where(y_res == 1, 0, 1)"
   ]
  },
  {
   "cell_type": "code",
   "execution_count": 565,
   "metadata": {},
   "outputs": [],
   "source": [
    "result1 = pd.DataFrame({\n",
    "    'class': result1,\n",
    "})\n",
    "result1['id'] = result1.index\n",
    "result1 = result1[['id'] + [col for col in result.columns if col != 'id']]\n"
   ]
  },
  {
   "cell_type": "code",
   "execution_count": 566,
   "metadata": {},
   "outputs": [
    {
     "data": {
      "text/plain": [
       "class\n",
       "0    762\n",
       "1    238\n",
       "Name: count, dtype: int64"
      ]
     },
     "execution_count": 566,
     "metadata": {},
     "output_type": "execute_result"
    }
   ],
   "source": [
    "result1['class'].value_counts()"
   ]
  },
  {
   "cell_type": "code",
   "execution_count": 567,
   "metadata": {},
   "outputs": [],
   "source": [
    "result1.to_csv('result1.csv', index=False)"
   ]
  },
  {
   "cell_type": "code",
   "execution_count": 230,
   "metadata": {},
   "outputs": [
    {
     "name": "stdout",
     "output_type": "stream",
     "text": [
      "Selected features: ['feature_mean', 'feature_std']\n"
     ]
    }
   ],
   "source": [
    "# selector = SelectKBest(f_classif, k=200)  \n",
    "# X_new = selector.fit_transform(X, y)\n",
    "\n",
    "# mask = selector.get_support()\n",
    "# selected_features = X.columns[mask]\n",
    "# print('Selected features:', selected_features.tolist())"
   ]
  },
  {
   "cell_type": "code",
   "execution_count": 343,
   "metadata": {},
   "outputs": [],
   "source": [
    "# from sklearn.linear_model import LogisticRegression\n",
    "# import numpy as np\n",
    "# from sklearn.model_selection import train_test_split\n",
    "# features = df['text']\n",
    "# labels = df['label']\n",
    "# max_length = max([len(f) for f in features])\n",
    "\n",
    "# features_padded = np.array([f + [0]*(max_length - len(f)) for f in features])\n",
    "# X_train, X_test, y_train, y_test = train_test_split(features_padded, labels, test_size=0.2, random_state=42)\n",
    "# model = LogisticRegression()\n",
    "# model.fit(X_train, y_train)\n",
    "\n",
    "# score = model.score(X_test, y_test)\n",
    "# print(f\"Test score: {score}\")\n",
    "\n",
    "\n",
    "# x_pre = test_set['text']\n",
    "# max_length = max([len(f) for f in x_pre])\n",
    "\n",
    "# features_padded = np.array([f + [0]*(max_length - len(f)) for f in x_pre])\n",
    "\n",
    "# len(features_padded[0])"
   ]
  },
  {
   "cell_type": "code",
   "execution_count": 569,
   "metadata": {},
   "outputs": [
    {
     "data": {
      "text/plain": [
       "<10393x1000 sparse matrix of type '<class 'numpy.int64'>'\n",
       "\twith 387892 stored elements in Compressed Sparse Row format>"
      ]
     },
     "execution_count": 569,
     "metadata": {},
     "output_type": "execute_result"
    }
   ],
   "source": [
    "X_train"
   ]
  },
  {
   "cell_type": "code",
   "execution_count": 568,
   "metadata": {},
   "outputs": [
    {
     "data": {
      "text/plain": [
       "SVC(class_weight='balanced')"
      ]
     },
     "execution_count": 568,
     "metadata": {},
     "output_type": "execute_result"
    }
   ],
   "source": [
    "from sklearn.svm import SVC\n",
    "clf = SVC(class_weight='balanced')\n",
    "clf.fit(X_train, y_train)"
   ]
  },
  {
   "cell_type": "code",
   "execution_count": 571,
   "metadata": {},
   "outputs": [
    {
     "data": {
      "text/plain": [
       "SVC()"
      ]
     },
     "execution_count": 571,
     "metadata": {},
     "output_type": "execute_result"
    }
   ],
   "source": [
    "from imblearn.over_sampling import SMOTE\n",
    "\n",
    "smote = SMOTE(random_state=42)\n",
    "X_resampled, y_resampled = smote.fit_resample(X_train, y_train)\n",
    "clf = SVC()\n",
    "clf.fit(X_resampled, y_resampled)"
   ]
  },
  {
   "cell_type": "code",
   "execution_count": 572,
   "metadata": {},
   "outputs": [
    {
     "name": "stderr",
     "output_type": "stream",
     "text": [
      "/opt/anaconda3/lib/python3.9/site-packages/imblearn/ensemble/_bagging.py:362: FutureWarning: `base_estimator` was renamed to `estimator` in version 0.10 and will be removed in 0.12.\n",
      "  warnings.warn(\n"
     ]
    },
    {
     "data": {
      "text/plain": [
       "BalancedBaggingClassifier(base_estimator=SVC(), random_state=0)"
      ]
     },
     "execution_count": 572,
     "metadata": {},
     "output_type": "execute_result"
    }
   ],
   "source": [
    "from imblearn.ensemble import BalancedBaggingClassifier\n",
    "from sklearn.svm import SVC\n",
    "\n",
    "bbc = BalancedBaggingClassifier(base_estimator=SVC(),\n",
    "                                sampling_strategy='auto',\n",
    "                                replacement=False,\n",
    "                                random_state=0)\n",
    "\n",
    "bbc.fit(X_train, y_train)"
   ]
  },
  {
   "cell_type": "code",
   "execution_count": 573,
   "metadata": {},
   "outputs": [
    {
     "name": "stderr",
     "output_type": "stream",
     "text": [
      "/opt/anaconda3/lib/python3.9/site-packages/imblearn/ensemble/_bagging.py:362: FutureWarning: `base_estimator` was renamed to `estimator` in version 0.10 and will be removed in 0.12.\n",
      "  warnings.warn(\n"
     ]
    },
    {
     "data": {
      "text/plain": [
       "BalancedBaggingClassifier(base_estimator=SVC(), random_state=0)"
      ]
     },
     "execution_count": 573,
     "metadata": {},
     "output_type": "execute_result"
    }
   ],
   "source": [
    "from imblearn.ensemble import BalancedBaggingClassifier\n",
    "from sklearn.svm import SVC\n",
    "\n",
    "bbc = BalancedBaggingClassifier(base_estimator=SVC(),\n",
    "                                sampling_strategy='auto',\n",
    "                                replacement=False,\n",
    "                                random_state=0)\n",
    "\n",
    "bbc.fit(X_train, y_train)\n"
   ]
  },
  {
   "cell_type": "code",
   "execution_count": 574,
   "metadata": {},
   "outputs": [
    {
     "name": "stdout",
     "output_type": "stream",
     "text": [
      "              precision    recall  f1-score   support\n",
      "\n",
      "           0       0.86      0.83      0.85      4327\n",
      "           1       0.24      0.28      0.26       793\n",
      "\n",
      "    accuracy                           0.75      5120\n",
      "   macro avg       0.55      0.56      0.55      5120\n",
      "weighted avg       0.77      0.75      0.76      5120\n",
      "\n"
     ]
    }
   ],
   "source": [
    "from sklearn.metrics import classification_report\n",
    "\n",
    "y_pred = clf.predict(X_test)\n",
    "print(classification_report(y_test, y_pred))\n"
   ]
  },
  {
   "cell_type": "code",
   "execution_count": 575,
   "metadata": {},
   "outputs": [],
   "source": [
    "result2 = clf.predict(X_pre_new)\n",
    "result2 = pd.DataFrame({\n",
    "    'class': result2,\n",
    "})\n",
    "result2['id'] = result2.index\n",
    "result2 = result2[['id'] + [col for col in result2.columns if col != 'id']]"
   ]
  },
  {
   "cell_type": "code",
   "execution_count": 578,
   "metadata": {},
   "outputs": [
    {
     "data": {
      "text/plain": [
       "class\n",
       "0    584\n",
       "1    416\n",
       "Name: count, dtype: int64"
      ]
     },
     "execution_count": 578,
     "metadata": {},
     "output_type": "execute_result"
    }
   ],
   "source": [
    "result2['class'].value_counts()"
   ]
  },
  {
   "cell_type": "code",
   "execution_count": 583,
   "metadata": {},
   "outputs": [],
   "source": [
    "result2.to_csv('result2.csv', index=False)"
   ]
  },
  {
   "cell_type": "code",
   "execution_count": null,
   "metadata": {},
   "outputs": [],
   "source": []
  }
 ],
 "metadata": {
  "kernelspec": {
   "display_name": "base",
   "language": "python",
   "name": "python3"
  },
  "language_info": {
   "codemirror_mode": {
    "name": "ipython",
    "version": 3
   },
   "file_extension": ".py",
   "mimetype": "text/x-python",
   "name": "python",
   "nbconvert_exporter": "python",
   "pygments_lexer": "ipython3",
   "version": "3.9.13"
  },
  "orig_nbformat": 4
 },
 "nbformat": 4,
 "nbformat_minor": 2
}
