{
 "cells": [
  {
   "cell_type": "code",
   "execution_count": 1,
   "metadata": {},
   "outputs": [],
   "source": [
    "import json\n",
    "import pandas as pd\n",
    "from sklearn.linear_model import LogisticRegression\n",
    "import numpy as np\n",
    "from sklearn.model_selection import train_test_split\n",
    "from sklearn.feature_selection import SelectKBest, f_classif,  chi2\n",
    "from sklearn import svm\n",
    "from scipy.sparse import csr_matrix\n",
    "import torch\n",
    "import torch.nn as nn\n",
    "import torch.optim as optim\n",
    "from torch.utils.data import DataLoader, TensorDataset\n",
    "import csv\n"
   ]
  },
  {
   "cell_type": "code",
   "execution_count": 2,
   "metadata": {},
   "outputs": [],
   "source": [
    "dom1 = []\n",
    "dom2 = []\n",
    "test_set = []\n",
    "with open('data/domain1_train.json', 'r') as file:\n",
    "    for line in file:\n",
    "        dom1.append(json.loads(line))\n",
    "        \n",
    "with open('data/domain2_train.json', 'r') as file:\n",
    "    for line in file:\n",
    "        dom2.append(json.loads(line))\n",
    "        \n",
    "sam = pd.read_csv(\"data/sample.csv\")\n",
    "\n",
    "with open('data/test_set.json', 'r') as file:\n",
    "    for line in file:\n",
    "        test_set.append(json.loads(line))\n",
    "        \n",
    "dom1 = pd.DataFrame.from_dict(dom1)\n",
    "dom2 = pd.DataFrame.from_dict(dom2)\n",
    "dom2 = dom2[dom2['text'].apply(len) > 0]\n",
    "test_set = pd.DataFrame.from_dict(test_set)\n",
    "        "
   ]
  },
  {
   "cell_type": "code",
   "execution_count": 3,
   "metadata": {},
   "outputs": [
    {
     "name": "stdout",
     "output_type": "stream",
     "text": [
      "19500\n",
      "14899\n",
      "1000\n",
      "1000\n"
     ]
    }
   ],
   "source": [
    "print(len(dom1))\n",
    "print(len(dom2))\n",
    "print(len(sam))\n",
    "print(len(test_set))"
   ]
  },
  {
   "cell_type": "code",
   "execution_count": 4,
   "metadata": {},
   "outputs": [
    {
     "name": "stdout",
     "output_type": "stream",
     "text": [
      "12750\n",
      "2149\n"
     ]
    }
   ],
   "source": [
    "dom1['label'].value_counts()\n",
    "print(len(dom2.loc[dom2['label']==0]))\n",
    "print(len(dom2.loc[dom2['label']==1]))"
   ]
  },
  {
   "attachments": {},
   "cell_type": "markdown",
   "metadata": {},
   "source": [
    "## Resampling"
   ]
  },
  {
   "cell_type": "code",
   "execution_count": 5,
   "metadata": {},
   "outputs": [],
   "source": [
    "#让dom2的label，model分布都平均，差不多307一组，st 307行是label 1 标为model 5，再从dom1里取307个label1和307个label0，人工的model是nan\n",
    "\n",
    "dom2_0 = dom2.loc[dom2['label']==0]\n",
    "dom2_1 = dom2.loc[dom2['label']==1]\n",
    "\n",
    "length_dom2_1 = len(dom2_1)\n",
    "mol_num = len(dom2['model'].value_counts())\n",
    "sam_dom2_0 = dom2_0.groupby('model').apply(lambda x: x.sample(n=int(length_dom2_1/mol_num)))\n",
    "sam_dom2_0.reset_index(drop=True, inplace=True)\n",
    "dom2_new = result = pd.concat([dom2_1, sam_dom2_0])\n",
    "\n",
    "sampled_dom1 = dom1.groupby('label').apply(lambda x: x.sample(n=int(length_dom2_1/mol_num)))\n",
    "sampled_dom1.reset_index(drop=True, inplace=True)\n",
    "\n",
    "df = result = pd.concat([sampled_dom1, dom2_new])"
   ]
  },
  {
   "cell_type": "code",
   "execution_count": 6,
   "metadata": {},
   "outputs": [
    {
     "name": "stdout",
     "output_type": "stream",
     "text": [
      "label\n",
      "0    2456\n",
      "1    2456\n",
      "Name: count, dtype: int64\n",
      "model\n",
      "0.0    307\n",
      "1.0    307\n",
      "2.0    307\n",
      "3.0    307\n",
      "4.0    307\n",
      "5.0    307\n",
      "6.0    307\n",
      "Name: count, dtype: int64\n"
     ]
    }
   ],
   "source": [
    "print(df['label'].value_counts())\n",
    "print(df['model'].value_counts())\n"
   ]
  },
  {
   "cell_type": "code",
   "execution_count": 7,
   "metadata": {},
   "outputs": [],
   "source": [
    "df = df.sample(frac=1).reset_index(drop=True)"
   ]
  },
  {
   "cell_type": "code",
   "execution_count": 8,
   "metadata": {},
   "outputs": [],
   "source": [
    "df = df.drop(['model'], axis=1)"
   ]
  },
  {
   "cell_type": "code",
   "execution_count": 12,
   "metadata": {},
   "outputs": [],
   "source": [
    "\n",
    "def to_sparse_matrix(sequences, vocab_size):\n",
    "    indptr = [0]\n",
    "    indices = []\n",
    "    data = []\n",
    "    for seq in sequences:\n",
    "        feature_counter = {}\n",
    "        for index in seq:\n",
    "            if index != 0:  # Skip 0s, other words\n",
    "                if index not in feature_counter:\n",
    "                    feature_counter[index] = 1\n",
    "                else:\n",
    "                    feature_counter[index] += 1\n",
    "        indices.extend(feature_counter.keys())\n",
    "        data.extend(feature_counter.values())\n",
    "        indptr.append(len(indices))\n",
    "    n_samples = len(sequences)  # 获取样本数\n",
    "    return csr_matrix((data, indices, indptr), dtype=int, shape=(n_samples, vocab_size + 1))\n",
    "\n",
    "vocab_size = 4999\n",
    "X = to_sparse_matrix(df['text'], vocab_size)\n"
   ]
  },
  {
   "cell_type": "code",
   "execution_count": 29,
   "metadata": {},
   "outputs": [],
   "source": [
    "# X = df['text'].to_list()\n",
    "y = df['label'].to_list()\n",
    "\n",
    "# selector = SelectKBest(chi2, k=1000)\n",
    "# X_new = selector.fit_transform(X, y)"
   ]
  },
  {
   "cell_type": "code",
   "execution_count": 42,
   "metadata": {},
   "outputs": [],
   "source": [
    "\n",
    "# from torch.nn.utils.rnn import pad_sequence\n",
    "\n",
    "# # 假设X_series是包含数字化文本序列的Pandas Series\n",
    "# X_series = df['text']\n",
    "\n",
    "# # 找到最长的序列长度\n",
    "# max_seq_length = max(len(seq) for seq in X_series)\n",
    "\n",
    "# # 填充序列，将其转换为PyTorch张量\n",
    "# X_padded = pad_sequence([torch.tensor(seq, dtype=torch.long) for seq in X_series], \n",
    "#                         batch_first=True, padding_value=0)\n",
    "\n",
    "X_train, X_test, y_train, y_test = train_test_split(X, y, test_size=0.2, random_state=42)\n",
    "\n",
    "# 将数据转换为PyTorch张量\n",
    "X_train_tensor = torch.tensor(X_train.toarray(), dtype=torch.long)\n",
    "y_train_tensor = torch.tensor(y_train, dtype=torch.float32)\n",
    "X_test_tensor = torch.tensor(X_test.toarray(), dtype=torch.long)\n",
    "y_test_tensor = torch.tensor(y_test, dtype=torch.float32)\n",
    "\n"
   ]
  },
  {
   "cell_type": "code",
   "execution_count": 43,
   "metadata": {},
   "outputs": [
    {
     "data": {
      "text/plain": [
       "tensor([[ 0,  1,  5,  ...,  0,  0,  0],\n",
       "        [ 0,  5,  3,  ...,  0,  0,  0],\n",
       "        [ 0,  5,  2,  ...,  0,  0,  0],\n",
       "        ...,\n",
       "        [ 0, 15,  4,  ...,  0,  0,  0],\n",
       "        [ 0, 14, 10,  ...,  0,  0,  0],\n",
       "        [ 0, 34, 51,  ...,  0,  0,  0]])"
      ]
     },
     "execution_count": 43,
     "metadata": {},
     "output_type": "execute_result"
    }
   ],
   "source": [
    "X_train_tensor\n"
   ]
  },
  {
   "cell_type": "code",
   "execution_count": 44,
   "metadata": {},
   "outputs": [],
   "source": [
    "# 创建数据加载器\n",
    "train_dataset = TensorDataset(X_train_tensor, y_train_tensor)\n",
    "test_dataset = TensorDataset(X_test_tensor, y_test_tensor)\n",
    "\n",
    "batch_size = 64  # 适当选择批量大小\n",
    "train_loader = DataLoader(train_dataset, batch_size=batch_size, shuffle=True)\n",
    "test_loader = DataLoader(test_dataset, batch_size=batch_size)"
   ]
  },
  {
   "cell_type": "code",
   "execution_count": 12,
   "metadata": {},
   "outputs": [],
   "source": [
    "# from sklearn.base import BaseEstimator\n",
    "# import torch\n",
    "# import torch.nn as nn\n",
    "# import torch.optim as optim\n",
    "# from torch.utils.data import DataLoader, TensorDataset\n",
    "\n",
    "# class TorchEstimator(BaseEstimator):\n",
    "#     def __init__(self, vocab_size, embedding_dim, hidden_dim, num_layers, output_dim,\n",
    "#                  learning_rate=0.001, batch_size=64, num_epochs=10):\n",
    "#         self.vocab_size = vocab_size\n",
    "#         self.embedding_dim = embedding_dim\n",
    "#         self.hidden_dim = hidden_dim\n",
    "#         self.num_layers = num_layers\n",
    "#         self.output_dim = output_dim\n",
    "#         self.learning_rate = learning_rate\n",
    "#         self.batch_size = batch_size\n",
    "#         self.num_epochs = num_epochs\n",
    "\n",
    "#     def fit(self, X, y):\n",
    "#         # 将数据转换为PyTorch张量并创建数据加载器\n",
    "#         X_tensor = torch.tensor(X, dtype=torch.long)\n",
    "#         y_tensor = torch.tensor(y, dtype=torch.float32)\n",
    "#         dataset = TensorDataset(X_tensor, y_tensor)\n",
    "#         loader = DataLoader(dataset, batch_size=self.batch_size, shuffle=True)\n",
    "\n",
    "#         # 创建模型\n",
    "#         model = self.create_model()\n",
    "#         criterion = nn.BCELoss()\n",
    "#         optimizer = optim.Adam(model.parameters(), lr=self.learning_rate)\n",
    "\n",
    "#         # 训练模型\n",
    "#         for epoch in range(self.num_epochs):\n",
    "#             model.train()\n",
    "#             for batch in loader:\n",
    "#                 text, labels = batch\n",
    "#                 optimizer.zero_grad()\n",
    "#                 predictions = model(text)\n",
    "#                 loss = criterion(predictions.squeeze(1), labels)\n",
    "#                 loss.backward()\n",
    "#                 optimizer.step()\n",
    "\n",
    "#     def predict(self, X):\n",
    "#         # 将数据转换为PyTorch张量\n",
    "#         X_tensor = torch.tensor(X, dtype=torch.long)\n",
    "\n",
    "#         # 创建模型并加载之前训练的最佳模型权重\n",
    "#         model = self.create_model()\n",
    "#         model.load_state_dict(torch.load('best_model_weights.pth'))\n",
    "\n",
    "#         # 预测\n",
    "#         model.eval()\n",
    "#         with torch.no_grad():\n",
    "#             predictions = model(X_tensor)\n",
    "#             return (predictions.numpy() > 0.5).astype(int)\n",
    "\n",
    "#     def create_model(self):\n",
    "#         # 创建并返回PyTorch模型\n",
    "#         model = LSTMModel(self.vocab_size, self.embedding_dim, self.hidden_dim, self.num_layers, self.output_dim)\n",
    "#         return model\n"
   ]
  },
  {
   "cell_type": "code",
   "execution_count": 13,
   "metadata": {},
   "outputs": [],
   "source": [
    "# from sklearn.model_selection import GridSearchCV\n",
    "\n",
    "# # 定义超参数空间\n",
    "# param_grid = {\n",
    "#     'learning_rate': [0.001, 0.01, 0.1],\n",
    "#     'embedding_dim': [64, 128, 256],\n",
    "#     'hidden_dim': [128, 256, 512],\n",
    "#     'num_layers': [1, 2, 3],\n",
    "#     'batch_size': [32, 64, 128]\n",
    "# }\n",
    "\n",
    "# # 创建 GridSearchCV 对象并进行超参数搜索\n",
    "# estimator = TorchEstimator(vocab_size, embedding_dim, hidden_dim, num_layers, output_dim)\n",
    "# grid_search = GridSearchCV(estimator, param_grid, cv=5, scoring='accuracy')\n",
    "# grid_search.fit(X_train, y_train)\n",
    "\n",
    "# # 获取最佳模型并进行预测\n",
    "# best_model = grid_search.best_estimator_\n",
    "# y_pred = best_model.predict(X_test)\n"
   ]
  },
  {
   "cell_type": "code",
   "execution_count": null,
   "metadata": {},
   "outputs": [],
   "source": []
  },
  {
   "cell_type": "code",
   "execution_count": null,
   "metadata": {},
   "outputs": [],
   "source": []
  },
  {
   "cell_type": "code",
   "execution_count": 33,
   "metadata": {},
   "outputs": [],
   "source": [
    "class RNNModel(nn.Module):\n",
    "    def __init__(self, vocab_size, embedding_dim, hidden_dim, num_layers, output_dim):\n",
    "        super(RNNModel, self).__init__()\n",
    "        self.embedding = nn.Embedding(vocab_size, embedding_dim)\n",
    "        self.lstm = nn.LSTM(embedding_dim, hidden_dim, num_layers, batch_first=True)\n",
    "        self.fc = nn.Linear(hidden_dim, output_dim)\n",
    "        self.sigmoid = nn.Sigmoid()\n",
    "\n",
    "    def forward(self, x):\n",
    "        embedded = self.embedding(x)\n",
    "        output, (hidden, cell) = self.lstm(embedded)\n",
    "        hidden = hidden[-1, :, :]  # 取最后一层的隐状态\n",
    "        out = self.fc(hidden)\n",
    "        return self.sigmoid(out)\n"
   ]
  },
  {
   "cell_type": "code",
   "execution_count": 45,
   "metadata": {},
   "outputs": [],
   "source": [
    "vocab_size = 5000  # 词汇表大小，根据你的数据集设置\n",
    "embedding_dim = 128  # 嵌入维度，可以根据需要调整\n",
    "hidden_dim = 256  # LSTM隐藏层维度，可以根据需要调整\n",
    "num_layers = 1  # LSTM层数，可以根据需要调整\n",
    "output_dim = 1  # 输出维度，因为是二进制分类，所以是1\n",
    "\n",
    "model = RNNModel(vocab_size, embedding_dim, hidden_dim, num_layers, output_dim)\n",
    "criterion = nn.BCELoss()  # 二进制交叉熵损失\n",
    "optimizer = optim.Adam(model.parameters(), lr=0.01)  # 选择优化器，可以根据需要调整学习率\n"
   ]
  },
  {
   "cell_type": "code",
   "execution_count": 46,
   "metadata": {},
   "outputs": [
    {
     "name": "stdout",
     "output_type": "stream",
     "text": [
      "Epoch: 01\n",
      "\tTest Loss: 0.697\n",
      "Epoch: 02\n",
      "\tTest Loss: 0.695\n",
      "Epoch: 03\n",
      "\tTest Loss: 0.699\n",
      "Epoch: 04\n",
      "\tTest Loss: 0.697\n",
      "Epoch: 05\n",
      "\tTest Loss: 0.696\n"
     ]
    }
   ],
   "source": [
    "def train(model, iterator, optimizer, criterion):\n",
    "    model.train()\n",
    "    for batch in iterator:\n",
    "        text, labels = batch\n",
    "        optimizer.zero_grad()\n",
    "        predictions = model(text)\n",
    "        loss = criterion(predictions.squeeze(1), labels)\n",
    "        loss.backward()\n",
    "        optimizer.step()\n",
    "\n",
    "def evaluate(model, iterator, criterion):\n",
    "    model.eval()\n",
    "    total_loss = 0\n",
    "    with torch.no_grad():\n",
    "        for batch in iterator:\n",
    "            text, labels = batch\n",
    "            predictions = model(text)\n",
    "            loss = criterion(predictions.squeeze(1), labels)\n",
    "            total_loss += loss.item()\n",
    "    return total_loss / len(iterator)\n",
    "\n",
    "# 训练模型\n",
    "N_EPOCHS = 5  # 根据需要选择训练轮数\n",
    "for epoch in range(N_EPOCHS):\n",
    "    train(model, train_loader, optimizer, criterion)\n",
    "    loss = evaluate(model, test_loader, criterion)\n",
    "    print(f'Epoch: {epoch+1:02}')\n",
    "    print(f'\\tTest Loss: {loss:.3f}')\n"
   ]
  },
  {
   "cell_type": "code",
   "execution_count": 47,
   "metadata": {},
   "outputs": [],
   "source": [
    "# 假设 model 是你的模型\n",
    "torch.save(model.state_dict(), 'model_weights.pth')\n"
   ]
  },
  {
   "cell_type": "code",
   "execution_count": 48,
   "metadata": {},
   "outputs": [],
   "source": [
    "# 加载已经训练好的模型权重\n",
    "model.load_state_dict(torch.load('model_weights.pth'))\n",
    "\n",
    "# 设置模型为评估模式\n",
    "model.eval()\n",
    "\n",
    "# 假设test_data是你的测试数据，是一个列表，每个元素都是数字化的句子\n",
    "\n",
    "\n",
    "predictions = []  # 用于存储预测结果的列表\n",
    "\n",
    "with torch.no_grad():\n",
    "    for index, row in test_set.iterrows():\n",
    "        text = torch.tensor(row['text'], dtype=torch.long).unsqueeze(0)  # 将数字列表转换为张量\n",
    "        predictions_tensor = model(text)\n",
    "        predicted_class = (predictions_tensor > 0.5).float()  # 这里假设阈值为0.5，可以根据需要调整\n",
    "        predictions.append({\"id\": row['id'], \"label\": int(predicted_class.item())})\n"
   ]
  },
  {
   "cell_type": "code",
   "execution_count": 49,
   "metadata": {},
   "outputs": [
    {
     "data": {
      "text/plain": [
       "[{'id': 0, 'label': 0},\n",
       " {'id': 1, 'label': 0},\n",
       " {'id': 2, 'label': 1},\n",
       " {'id': 3, 'label': 0},\n",
       " {'id': 4, 'label': 0},\n",
       " {'id': 5, 'label': 1},\n",
       " {'id': 6, 'label': 0},\n",
       " {'id': 7, 'label': 0},\n",
       " {'id': 8, 'label': 1},\n",
       " {'id': 9, 'label': 0}]"
      ]
     },
     "execution_count": 49,
     "metadata": {},
     "output_type": "execute_result"
    }
   ],
   "source": [
    "predictions[:10]"
   ]
  },
  {
   "cell_type": "code",
   "execution_count": 50,
   "metadata": {},
   "outputs": [
    {
     "name": "stdout",
     "output_type": "stream",
     "text": [
      "Predictions saved to predictions.csv\n"
     ]
    }
   ],
   "source": [
    "output_csv_file = 'predictions.csv'\n",
    "\n",
    "# 打开CSV文件并写入预测结果\n",
    "with open(output_csv_file, 'w', newline='') as csvfile:\n",
    "    fieldnames = ['id', 'class']\n",
    "    writer = csv.DictWriter(csvfile, fieldnames=fieldnames)\n",
    "\n",
    "    # 写入CSV文件的表头\n",
    "    writer.writeheader()\n",
    "\n",
    "    # 写入预测结果\n",
    "    for prediction in predictions:\n",
    "        writer.writerow({'id': prediction['id'], 'class': prediction['label']})\n",
    "\n",
    "print(f'Predictions saved to {output_csv_file}')"
   ]
  },
  {
   "cell_type": "code",
   "execution_count": 51,
   "metadata": {},
   "outputs": [],
   "source": [
    "result = pd.read_csv('predictions.csv')"
   ]
  },
  {
   "cell_type": "code",
   "execution_count": 52,
   "metadata": {},
   "outputs": [
    {
     "data": {
      "text/html": [
       "<div>\n",
       "<style scoped>\n",
       "    .dataframe tbody tr th:only-of-type {\n",
       "        vertical-align: middle;\n",
       "    }\n",
       "\n",
       "    .dataframe tbody tr th {\n",
       "        vertical-align: top;\n",
       "    }\n",
       "\n",
       "    .dataframe thead th {\n",
       "        text-align: right;\n",
       "    }\n",
       "</style>\n",
       "<table border=\"1\" class=\"dataframe\">\n",
       "  <thead>\n",
       "    <tr style=\"text-align: right;\">\n",
       "      <th></th>\n",
       "      <th>id</th>\n",
       "      <th>class</th>\n",
       "    </tr>\n",
       "  </thead>\n",
       "  <tbody>\n",
       "    <tr>\n",
       "      <th>0</th>\n",
       "      <td>0</td>\n",
       "      <td>0</td>\n",
       "    </tr>\n",
       "    <tr>\n",
       "      <th>1</th>\n",
       "      <td>1</td>\n",
       "      <td>0</td>\n",
       "    </tr>\n",
       "    <tr>\n",
       "      <th>3</th>\n",
       "      <td>3</td>\n",
       "      <td>0</td>\n",
       "    </tr>\n",
       "    <tr>\n",
       "      <th>4</th>\n",
       "      <td>4</td>\n",
       "      <td>0</td>\n",
       "    </tr>\n",
       "    <tr>\n",
       "      <th>6</th>\n",
       "      <td>6</td>\n",
       "      <td>0</td>\n",
       "    </tr>\n",
       "    <tr>\n",
       "      <th>...</th>\n",
       "      <td>...</td>\n",
       "      <td>...</td>\n",
       "    </tr>\n",
       "    <tr>\n",
       "      <th>993</th>\n",
       "      <td>993</td>\n",
       "      <td>0</td>\n",
       "    </tr>\n",
       "    <tr>\n",
       "      <th>994</th>\n",
       "      <td>994</td>\n",
       "      <td>0</td>\n",
       "    </tr>\n",
       "    <tr>\n",
       "      <th>996</th>\n",
       "      <td>996</td>\n",
       "      <td>0</td>\n",
       "    </tr>\n",
       "    <tr>\n",
       "      <th>997</th>\n",
       "      <td>997</td>\n",
       "      <td>0</td>\n",
       "    </tr>\n",
       "    <tr>\n",
       "      <th>998</th>\n",
       "      <td>998</td>\n",
       "      <td>0</td>\n",
       "    </tr>\n",
       "  </tbody>\n",
       "</table>\n",
       "<p>804 rows × 2 columns</p>\n",
       "</div>"
      ],
      "text/plain": [
       "      id  class\n",
       "0      0      0\n",
       "1      1      0\n",
       "3      3      0\n",
       "4      4      0\n",
       "6      6      0\n",
       "..   ...    ...\n",
       "993  993      0\n",
       "994  994      0\n",
       "996  996      0\n",
       "997  997      0\n",
       "998  998      0\n",
       "\n",
       "[804 rows x 2 columns]"
      ]
     },
     "execution_count": 52,
     "metadata": {},
     "output_type": "execute_result"
    }
   ],
   "source": [
    "result[result['class'] == 0]"
   ]
  },
  {
   "cell_type": "code",
   "execution_count": null,
   "metadata": {},
   "outputs": [],
   "source": []
  }
 ],
 "metadata": {
  "kernelspec": {
   "display_name": "base",
   "language": "python",
   "name": "python3"
  },
  "language_info": {
   "codemirror_mode": {
    "name": "ipython",
    "version": 3
   },
   "file_extension": ".py",
   "mimetype": "text/x-python",
   "name": "python",
   "nbconvert_exporter": "python",
   "pygments_lexer": "ipython3",
   "version": "3.9.17"
  },
  "orig_nbformat": 4
 },
 "nbformat": 4,
 "nbformat_minor": 2
}
